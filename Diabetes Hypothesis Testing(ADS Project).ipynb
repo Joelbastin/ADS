{
 "cells": [
  {
   "cell_type": "code",
   "execution_count": 4,
   "id": "e65d46eb",
   "metadata": {},
   "outputs": [
    {
     "name": "stdout",
     "output_type": "stream",
     "text": [
      "Collecting scikit_posthocs\n",
      "  Downloading scikit_posthocs-0.7.0-py3-none-any.whl (38 kB)\n",
      "Requirement already satisfied: numpy in c:\\users\\leojn\\anaconda3\\lib\\site-packages (from scikit_posthocs) (1.21.5)\n",
      "Requirement already satisfied: scipy in c:\\users\\leojn\\anaconda3\\lib\\site-packages (from scikit_posthocs) (1.7.3)\n",
      "Requirement already satisfied: matplotlib in c:\\users\\leojn\\anaconda3\\lib\\site-packages (from scikit_posthocs) (3.5.1)\n",
      "Requirement already satisfied: seaborn in c:\\users\\leojn\\anaconda3\\lib\\site-packages (from scikit_posthocs) (0.11.2)\n",
      "Requirement already satisfied: pandas>=0.20.0 in c:\\users\\leojn\\anaconda3\\lib\\site-packages (from scikit_posthocs) (1.4.2)\n",
      "Requirement already satisfied: statsmodels in c:\\users\\leojn\\anaconda3\\lib\\site-packages (from scikit_posthocs) (0.13.2)\n",
      "Requirement already satisfied: python-dateutil>=2.8.1 in c:\\users\\leojn\\anaconda3\\lib\\site-packages (from pandas>=0.20.0->scikit_posthocs) (2.8.2)\n",
      "Requirement already satisfied: pytz>=2020.1 in c:\\users\\leojn\\anaconda3\\lib\\site-packages (from pandas>=0.20.0->scikit_posthocs) (2021.3)\n",
      "Requirement already satisfied: six>=1.5 in c:\\users\\leojn\\anaconda3\\lib\\site-packages (from python-dateutil>=2.8.1->pandas>=0.20.0->scikit_posthocs) (1.16.0)\n",
      "Requirement already satisfied: cycler>=0.10 in c:\\users\\leojn\\anaconda3\\lib\\site-packages (from matplotlib->scikit_posthocs) (0.11.0)\n",
      "Requirement already satisfied: fonttools>=4.22.0 in c:\\users\\leojn\\anaconda3\\lib\\site-packages (from matplotlib->scikit_posthocs) (4.25.0)\n",
      "Requirement already satisfied: packaging>=20.0 in c:\\users\\leojn\\anaconda3\\lib\\site-packages (from matplotlib->scikit_posthocs) (21.3)\n",
      "Requirement already satisfied: pyparsing>=2.2.1 in c:\\users\\leojn\\anaconda3\\lib\\site-packages (from matplotlib->scikit_posthocs) (3.0.4)\n",
      "Requirement already satisfied: pillow>=6.2.0 in c:\\users\\leojn\\anaconda3\\lib\\site-packages (from matplotlib->scikit_posthocs) (9.0.1)\n",
      "Requirement already satisfied: kiwisolver>=1.0.1 in c:\\users\\leojn\\anaconda3\\lib\\site-packages (from matplotlib->scikit_posthocs) (1.3.2)\n",
      "Requirement already satisfied: patsy>=0.5.2 in c:\\users\\leojn\\anaconda3\\lib\\site-packages (from statsmodels->scikit_posthocs) (0.5.2)\n",
      "Installing collected packages: scikit-posthocs\n",
      "Successfully installed scikit-posthocs-0.7.0\n"
     ]
    }
   ],
   "source": [
    "import numpy as np\n",
    "import pandas as pd\n",
    "import scipy.stats as st\n",
    "import math\n",
    "import matplotlib.pyplot as plt\n",
    "import seaborn as sns\n",
    "\n",
    "\n",
    "# import statsmodels\n",
    "import statsmodels.api as sm\n",
    "from statsmodels.formula.api import ols\n",
    "from statsmodels.stats.anova import anova_lm\n",
    "\n",
    "# import 'stats' package from scipy library\n",
    "from scipy import stats\n",
    "\n",
    "# import the functions to perform Chi-square tests\n",
    "from scipy.stats import chi2_contingency\n",
    "from scipy.stats import chi2\n",
    "from scipy.stats import chisquare\n",
    "\n",
    "# function to perform post-hoc test\n",
    "import statsmodels.stats.multicomp as mc\n",
    "\n",
    "# import function to perform post-hoc\n",
    "# install scikit_posthocs using \"!pip install scikit_posthocs\" \n",
    "!pip install scikit_posthocs\n",
    "import scikit_posthocs"
   ]
  },
  {
   "cell_type": "code",
   "execution_count": 6,
   "id": "f837e813",
   "metadata": {},
   "outputs": [],
   "source": [
    "diabetes_df=pd.read_csv(\"D:\\Dataset\\diabetes.csv\")"
   ]
  },
  {
   "cell_type": "code",
   "execution_count": 7,
   "id": "92a1dbfa",
   "metadata": {},
   "outputs": [
    {
     "data": {
      "text/html": [
       "<div>\n",
       "<style scoped>\n",
       "    .dataframe tbody tr th:only-of-type {\n",
       "        vertical-align: middle;\n",
       "    }\n",
       "\n",
       "    .dataframe tbody tr th {\n",
       "        vertical-align: top;\n",
       "    }\n",
       "\n",
       "    .dataframe thead th {\n",
       "        text-align: right;\n",
       "    }\n",
       "</style>\n",
       "<table border=\"1\" class=\"dataframe\">\n",
       "  <thead>\n",
       "    <tr style=\"text-align: right;\">\n",
       "      <th></th>\n",
       "      <th>Pregnancies</th>\n",
       "      <th>Glucose</th>\n",
       "      <th>BloodPressure</th>\n",
       "      <th>SkinThickness</th>\n",
       "      <th>Insulin</th>\n",
       "      <th>BMI</th>\n",
       "      <th>DiabetesPedigreeFunction</th>\n",
       "      <th>Age</th>\n",
       "      <th>Outcome</th>\n",
       "    </tr>\n",
       "  </thead>\n",
       "  <tbody>\n",
       "    <tr>\n",
       "      <th>0</th>\n",
       "      <td>6</td>\n",
       "      <td>148</td>\n",
       "      <td>72</td>\n",
       "      <td>35</td>\n",
       "      <td>0</td>\n",
       "      <td>33.6</td>\n",
       "      <td>0.627</td>\n",
       "      <td>50</td>\n",
       "      <td>1</td>\n",
       "    </tr>\n",
       "    <tr>\n",
       "      <th>1</th>\n",
       "      <td>1</td>\n",
       "      <td>85</td>\n",
       "      <td>66</td>\n",
       "      <td>29</td>\n",
       "      <td>0</td>\n",
       "      <td>26.6</td>\n",
       "      <td>0.351</td>\n",
       "      <td>31</td>\n",
       "      <td>0</td>\n",
       "    </tr>\n",
       "    <tr>\n",
       "      <th>2</th>\n",
       "      <td>8</td>\n",
       "      <td>183</td>\n",
       "      <td>64</td>\n",
       "      <td>0</td>\n",
       "      <td>0</td>\n",
       "      <td>23.3</td>\n",
       "      <td>0.672</td>\n",
       "      <td>32</td>\n",
       "      <td>1</td>\n",
       "    </tr>\n",
       "    <tr>\n",
       "      <th>3</th>\n",
       "      <td>1</td>\n",
       "      <td>89</td>\n",
       "      <td>66</td>\n",
       "      <td>23</td>\n",
       "      <td>94</td>\n",
       "      <td>28.1</td>\n",
       "      <td>0.167</td>\n",
       "      <td>21</td>\n",
       "      <td>0</td>\n",
       "    </tr>\n",
       "    <tr>\n",
       "      <th>4</th>\n",
       "      <td>0</td>\n",
       "      <td>137</td>\n",
       "      <td>40</td>\n",
       "      <td>35</td>\n",
       "      <td>168</td>\n",
       "      <td>43.1</td>\n",
       "      <td>2.288</td>\n",
       "      <td>33</td>\n",
       "      <td>1</td>\n",
       "    </tr>\n",
       "  </tbody>\n",
       "</table>\n",
       "</div>"
      ],
      "text/plain": [
       "   Pregnancies  Glucose  BloodPressure  SkinThickness  Insulin   BMI  \\\n",
       "0            6      148             72             35        0  33.6   \n",
       "1            1       85             66             29        0  26.6   \n",
       "2            8      183             64              0        0  23.3   \n",
       "3            1       89             66             23       94  28.1   \n",
       "4            0      137             40             35      168  43.1   \n",
       "\n",
       "   DiabetesPedigreeFunction  Age  Outcome  \n",
       "0                     0.627   50        1  \n",
       "1                     0.351   31        0  \n",
       "2                     0.672   32        1  \n",
       "3                     0.167   21        0  \n",
       "4                     2.288   33        1  "
      ]
     },
     "execution_count": 7,
     "metadata": {},
     "output_type": "execute_result"
    }
   ],
   "source": [
    "diabetes_df.head(5)"
   ]
  },
  {
   "cell_type": "code",
   "execution_count": 8,
   "id": "fcd0d231",
   "metadata": {},
   "outputs": [
    {
     "data": {
      "text/plain": [
       "(768, 9)"
      ]
     },
     "execution_count": 8,
     "metadata": {},
     "output_type": "execute_result"
    }
   ],
   "source": [
    "diabetes_df.shape"
   ]
  },
  {
   "cell_type": "code",
   "execution_count": 9,
   "id": "df9125b1",
   "metadata": {},
   "outputs": [
    {
     "name": "stdout",
     "output_type": "stream",
     "text": [
      "<class 'pandas.core.frame.DataFrame'>\n",
      "RangeIndex: 768 entries, 0 to 767\n",
      "Data columns (total 9 columns):\n",
      " #   Column                    Non-Null Count  Dtype  \n",
      "---  ------                    --------------  -----  \n",
      " 0   Pregnancies               768 non-null    int64  \n",
      " 1   Glucose                   768 non-null    int64  \n",
      " 2   BloodPressure             768 non-null    int64  \n",
      " 3   SkinThickness             768 non-null    int64  \n",
      " 4   Insulin                   768 non-null    int64  \n",
      " 5   BMI                       768 non-null    float64\n",
      " 6   DiabetesPedigreeFunction  768 non-null    float64\n",
      " 7   Age                       768 non-null    int64  \n",
      " 8   Outcome                   768 non-null    int64  \n",
      "dtypes: float64(2), int64(7)\n",
      "memory usage: 54.1 KB\n"
     ]
    }
   ],
   "source": [
    "diabetes_df.info()"
   ]
  },
  {
   "cell_type": "code",
   "execution_count": 10,
   "id": "7350d470",
   "metadata": {},
   "outputs": [
    {
     "data": {
      "text/html": [
       "<div>\n",
       "<style scoped>\n",
       "    .dataframe tbody tr th:only-of-type {\n",
       "        vertical-align: middle;\n",
       "    }\n",
       "\n",
       "    .dataframe tbody tr th {\n",
       "        vertical-align: top;\n",
       "    }\n",
       "\n",
       "    .dataframe thead th {\n",
       "        text-align: right;\n",
       "    }\n",
       "</style>\n",
       "<table border=\"1\" class=\"dataframe\">\n",
       "  <thead>\n",
       "    <tr style=\"text-align: right;\">\n",
       "      <th></th>\n",
       "      <th>Pregnancies</th>\n",
       "      <th>Glucose</th>\n",
       "      <th>BloodPressure</th>\n",
       "      <th>SkinThickness</th>\n",
       "      <th>Insulin</th>\n",
       "      <th>BMI</th>\n",
       "      <th>DiabetesPedigreeFunction</th>\n",
       "      <th>Age</th>\n",
       "      <th>Outcome</th>\n",
       "    </tr>\n",
       "  </thead>\n",
       "  <tbody>\n",
       "    <tr>\n",
       "      <th>count</th>\n",
       "      <td>768.000000</td>\n",
       "      <td>768.000000</td>\n",
       "      <td>768.000000</td>\n",
       "      <td>768.000000</td>\n",
       "      <td>768.000000</td>\n",
       "      <td>768.000000</td>\n",
       "      <td>768.000000</td>\n",
       "      <td>768.000000</td>\n",
       "      <td>768.000000</td>\n",
       "    </tr>\n",
       "    <tr>\n",
       "      <th>mean</th>\n",
       "      <td>3.845052</td>\n",
       "      <td>120.894531</td>\n",
       "      <td>69.105469</td>\n",
       "      <td>20.536458</td>\n",
       "      <td>79.799479</td>\n",
       "      <td>31.992578</td>\n",
       "      <td>0.471876</td>\n",
       "      <td>33.240885</td>\n",
       "      <td>0.348958</td>\n",
       "    </tr>\n",
       "    <tr>\n",
       "      <th>std</th>\n",
       "      <td>3.369578</td>\n",
       "      <td>31.972618</td>\n",
       "      <td>19.355807</td>\n",
       "      <td>15.952218</td>\n",
       "      <td>115.244002</td>\n",
       "      <td>7.884160</td>\n",
       "      <td>0.331329</td>\n",
       "      <td>11.760232</td>\n",
       "      <td>0.476951</td>\n",
       "    </tr>\n",
       "    <tr>\n",
       "      <th>min</th>\n",
       "      <td>0.000000</td>\n",
       "      <td>0.000000</td>\n",
       "      <td>0.000000</td>\n",
       "      <td>0.000000</td>\n",
       "      <td>0.000000</td>\n",
       "      <td>0.000000</td>\n",
       "      <td>0.078000</td>\n",
       "      <td>21.000000</td>\n",
       "      <td>0.000000</td>\n",
       "    </tr>\n",
       "    <tr>\n",
       "      <th>25%</th>\n",
       "      <td>1.000000</td>\n",
       "      <td>99.000000</td>\n",
       "      <td>62.000000</td>\n",
       "      <td>0.000000</td>\n",
       "      <td>0.000000</td>\n",
       "      <td>27.300000</td>\n",
       "      <td>0.243750</td>\n",
       "      <td>24.000000</td>\n",
       "      <td>0.000000</td>\n",
       "    </tr>\n",
       "    <tr>\n",
       "      <th>50%</th>\n",
       "      <td>3.000000</td>\n",
       "      <td>117.000000</td>\n",
       "      <td>72.000000</td>\n",
       "      <td>23.000000</td>\n",
       "      <td>30.500000</td>\n",
       "      <td>32.000000</td>\n",
       "      <td>0.372500</td>\n",
       "      <td>29.000000</td>\n",
       "      <td>0.000000</td>\n",
       "    </tr>\n",
       "    <tr>\n",
       "      <th>75%</th>\n",
       "      <td>6.000000</td>\n",
       "      <td>140.250000</td>\n",
       "      <td>80.000000</td>\n",
       "      <td>32.000000</td>\n",
       "      <td>127.250000</td>\n",
       "      <td>36.600000</td>\n",
       "      <td>0.626250</td>\n",
       "      <td>41.000000</td>\n",
       "      <td>1.000000</td>\n",
       "    </tr>\n",
       "    <tr>\n",
       "      <th>max</th>\n",
       "      <td>17.000000</td>\n",
       "      <td>199.000000</td>\n",
       "      <td>122.000000</td>\n",
       "      <td>99.000000</td>\n",
       "      <td>846.000000</td>\n",
       "      <td>67.100000</td>\n",
       "      <td>2.420000</td>\n",
       "      <td>81.000000</td>\n",
       "      <td>1.000000</td>\n",
       "    </tr>\n",
       "  </tbody>\n",
       "</table>\n",
       "</div>"
      ],
      "text/plain": [
       "       Pregnancies     Glucose  BloodPressure  SkinThickness     Insulin  \\\n",
       "count   768.000000  768.000000     768.000000     768.000000  768.000000   \n",
       "mean      3.845052  120.894531      69.105469      20.536458   79.799479   \n",
       "std       3.369578   31.972618      19.355807      15.952218  115.244002   \n",
       "min       0.000000    0.000000       0.000000       0.000000    0.000000   \n",
       "25%       1.000000   99.000000      62.000000       0.000000    0.000000   \n",
       "50%       3.000000  117.000000      72.000000      23.000000   30.500000   \n",
       "75%       6.000000  140.250000      80.000000      32.000000  127.250000   \n",
       "max      17.000000  199.000000     122.000000      99.000000  846.000000   \n",
       "\n",
       "              BMI  DiabetesPedigreeFunction         Age     Outcome  \n",
       "count  768.000000                768.000000  768.000000  768.000000  \n",
       "mean    31.992578                  0.471876   33.240885    0.348958  \n",
       "std      7.884160                  0.331329   11.760232    0.476951  \n",
       "min      0.000000                  0.078000   21.000000    0.000000  \n",
       "25%     27.300000                  0.243750   24.000000    0.000000  \n",
       "50%     32.000000                  0.372500   29.000000    0.000000  \n",
       "75%     36.600000                  0.626250   41.000000    1.000000  \n",
       "max     67.100000                  2.420000   81.000000    1.000000  "
      ]
     },
     "execution_count": 10,
     "metadata": {},
     "output_type": "execute_result"
    }
   ],
   "source": [
    "diabetes_df.describe()"
   ]
  },
  {
   "cell_type": "code",
   "execution_count": 11,
   "id": "df57af73",
   "metadata": {},
   "outputs": [
    {
     "data": {
      "text/plain": [
       "Text(0.5, 1.0, 'Diabetes Pedigree Function vs. Outcome')"
      ]
     },
     "execution_count": 11,
     "metadata": {},
     "output_type": "execute_result"
    },
    {
     "data": {
      "image/png": "[encoded data removed]",
      "text/plain": [
       "<Figure size 432x288 with 1 Axes>"
      ]
     },
     "metadata": {
      "needs_background": "light"
     },
     "output_type": "display_data"
    },
    {
     "data": {
      "image/png": "[encoded data removed]",
      "text/plain": [
       "<Figure size 432x288 with 1 Axes>"
      ]
     },
     "metadata": {
      "needs_background": "light"
     },
     "output_type": "display_data"
    },
    {
     "data": {
      "image/png": "[encoded data removed]",
      "text/plain": [
       "<Figure size 432x288 with 1 Axes>"
      ]
     },
     "metadata": {
      "needs_background": "light"
     },
     "output_type": "display_data"
    },
    {
     "data": {
      "image/png": "[encoded data removed]",
      "text/plain": [
       "<Figure size 432x288 with 1 Axes>"
      ]
     },
     "metadata": {
      "needs_background": "light"
     },
     "output_type": "display_data"
    },
    {
     "data": {
      "image/png": "[encoded data removed]",
      "text/plain": [
       "<Figure size 432x288 with 1 Axes>"
      ]
     },
     "metadata": {
      "needs_background": "light"
     },
     "output_type": "display_data"
    },
    {
     "data": {
      "image/png": "[encoded data removed]",
      "text/plain": [
       "<Figure size 432x288 with 1 Axes>"
      ]
     },
     "metadata": {
      "needs_background": "light"
     },
     "output_type": "display_data"
    }
   ],
   "source": [
    "plt.figure(1)\n",
    "sns.violinplot(x='Outcome',y='Glucose',data=diabetes_df)\n",
    "plt.title('Glucose vs Outcome')\n",
    "plt.figure(2)\n",
    "sns.violinplot(x='Outcome',y='BloodPressure',data=diabetes_df)\n",
    "plt.title('Blood Pressure vs. Outcome')\n",
    "plt.figure(3)\n",
    "sns.violinplot(x='Outcome',y='SkinThickness',data=diabetes_df)\n",
    "plt.title('Skin Thickness vs Outcome')\n",
    "plt.figure(4)\n",
    "sns.violinplot(x='Outcome',y='Insulin',data=diabetes_df)\n",
    "plt.title('Insulin vs Outcome')\n",
    "plt.figure(5)\n",
    "sns.violinplot(x='Outcome',y='BMI',data=diabetes_df)\n",
    "plt.title('BMI vs Outcome')\n",
    "plt.figure(6)\n",
    "sns.violinplot(x='Outcome',y='DiabetesPedigreeFunction',data=diabetes_df)\n",
    "plt.title('Diabetes Pedigree Function vs. Outcome')\n"
   ]
  },
  {
   "cell_type": "code",
   "execution_count": 12,
   "id": "ddfdc893",
   "metadata": {},
   "outputs": [],
   "source": [
    "positive_df=diabetes_df[diabetes_df['Outcome']==1]\n",
    "negative_df=diabetes_df[diabetes_df['Outcome']==0]\n",
    "\n",
    "positive_df=positive_df.replace({'Glucose':0},np.median(positive_df['Glucose']))\n",
    "negative_df=negative_df.replace({'Glucose':0},np.median(negative_df['Glucose']))\n",
    "df=[positive_df,negative_df]\n",
    "diabetes_df=pd.concat(df)"
   ]
  },
  {
   "cell_type": "code",
   "execution_count": 13,
   "id": "1ae94abd",
   "metadata": {},
   "outputs": [],
   "source": [
    "positive_df=positive_df.replace({'BloodPressure':0},np.median(positive_df['BloodPressure']))\n",
    "negative_df=negative_df.replace({'BloodPressure':0},np.median(negative_df['BloodPressure']))\n",
    "df=[positive_df,negative_df]\n",
    "diabetes_df=pd.concat(df)"
   ]
  },
  {
   "cell_type": "code",
   "execution_count": 14,
   "id": "0c3ecfd3",
   "metadata": {},
   "outputs": [],
   "source": [
    "positive_df=positive_df.replace({'SkinThickness':0},np.median(positive_df['SkinThickness']))\n",
    "negative_df=negative_df.replace({'SkinThickness':0},np.median(negative_df['SkinThickness']))\n",
    "df=[positive_df,negative_df]\n",
    "diabetes_df=pd.concat(df)"
   ]
  },
  {
   "cell_type": "code",
   "execution_count": 15,
   "id": "cc9af71b",
   "metadata": {},
   "outputs": [],
   "source": [
    "positive_df=positive_df.replace({'Insulin':0},np.median(positive_df['Insulin']))\n",
    "negative_df=negative_df.replace({'Insulin':0},np.median(negative_df['Insulin']))\n",
    "df=[positive_df,negative_df]\n",
    "diabetes_df=pd.concat(df)"
   ]
  },
  {
   "cell_type": "code",
   "execution_count": 16,
   "id": "f304f43a",
   "metadata": {},
   "outputs": [],
   "source": [
    "positive_df=positive_df.replace({'BMI':0},np.median(positive_df['BMI']))\n",
    "negative_df=negative_df.replace({'BMI':0},np.median(negative_df['BMI']))\n",
    "df=[positive_df,negative_df]\n",
    "diabetes_df=pd.concat(df)"
   ]
  },
  {
   "cell_type": "code",
   "execution_count": 17,
   "id": "ab15d7df",
   "metadata": {},
   "outputs": [
    {
     "data": {
      "text/html": [
       "<div>\n",
       "<style scoped>\n",
       "    .dataframe tbody tr th:only-of-type {\n",
       "        vertical-align: middle;\n",
       "    }\n",
       "\n",
       "    .dataframe tbody tr th {\n",
       "        vertical-align: top;\n",
       "    }\n",
       "\n",
       "    .dataframe thead th {\n",
       "        text-align: right;\n",
       "    }\n",
       "</style>\n",
       "<table border=\"1\" class=\"dataframe\">\n",
       "  <thead>\n",
       "    <tr style=\"text-align: right;\">\n",
       "      <th></th>\n",
       "      <th>Pregnancies</th>\n",
       "      <th>Glucose</th>\n",
       "      <th>BloodPressure</th>\n",
       "      <th>SkinThickness</th>\n",
       "      <th>Insulin</th>\n",
       "      <th>BMI</th>\n",
       "      <th>DiabetesPedigreeFunction</th>\n",
       "      <th>Age</th>\n",
       "      <th>Outcome</th>\n",
       "    </tr>\n",
       "  </thead>\n",
       "  <tbody>\n",
       "    <tr>\n",
       "      <th>count</th>\n",
       "      <td>768.000000</td>\n",
       "      <td>768.000000</td>\n",
       "      <td>768.000000</td>\n",
       "      <td>768.00000</td>\n",
       "      <td>768.000000</td>\n",
       "      <td>768.000000</td>\n",
       "      <td>768.000000</td>\n",
       "      <td>768.000000</td>\n",
       "      <td>768.000000</td>\n",
       "    </tr>\n",
       "    <tr>\n",
       "      <th>mean</th>\n",
       "      <td>3.845052</td>\n",
       "      <td>121.677083</td>\n",
       "      <td>72.378906</td>\n",
       "      <td>27.43099</td>\n",
       "      <td>91.783854</td>\n",
       "      <td>32.433919</td>\n",
       "      <td>0.471876</td>\n",
       "      <td>33.240885</td>\n",
       "      <td>0.348958</td>\n",
       "    </tr>\n",
       "    <tr>\n",
       "      <th>std</th>\n",
       "      <td>3.369578</td>\n",
       "      <td>30.464161</td>\n",
       "      <td>12.104431</td>\n",
       "      <td>9.32146</td>\n",
       "      <td>108.121136</td>\n",
       "      <td>6.880664</td>\n",
       "      <td>0.331329</td>\n",
       "      <td>11.760232</td>\n",
       "      <td>0.476951</td>\n",
       "    </tr>\n",
       "    <tr>\n",
       "      <th>min</th>\n",
       "      <td>0.000000</td>\n",
       "      <td>44.000000</td>\n",
       "      <td>24.000000</td>\n",
       "      <td>7.00000</td>\n",
       "      <td>0.000000</td>\n",
       "      <td>18.200000</td>\n",
       "      <td>0.078000</td>\n",
       "      <td>21.000000</td>\n",
       "      <td>0.000000</td>\n",
       "    </tr>\n",
       "    <tr>\n",
       "      <th>25%</th>\n",
       "      <td>1.000000</td>\n",
       "      <td>99.750000</td>\n",
       "      <td>64.000000</td>\n",
       "      <td>21.00000</td>\n",
       "      <td>39.000000</td>\n",
       "      <td>27.500000</td>\n",
       "      <td>0.243750</td>\n",
       "      <td>24.000000</td>\n",
       "      <td>0.000000</td>\n",
       "    </tr>\n",
       "    <tr>\n",
       "      <th>50%</th>\n",
       "      <td>3.000000</td>\n",
       "      <td>117.000000</td>\n",
       "      <td>72.000000</td>\n",
       "      <td>27.00000</td>\n",
       "      <td>39.000000</td>\n",
       "      <td>32.050000</td>\n",
       "      <td>0.372500</td>\n",
       "      <td>29.000000</td>\n",
       "      <td>0.000000</td>\n",
       "    </tr>\n",
       "    <tr>\n",
       "      <th>75%</th>\n",
       "      <td>6.000000</td>\n",
       "      <td>140.250000</td>\n",
       "      <td>80.000000</td>\n",
       "      <td>32.00000</td>\n",
       "      <td>127.250000</td>\n",
       "      <td>36.600000</td>\n",
       "      <td>0.626250</td>\n",
       "      <td>41.000000</td>\n",
       "      <td>1.000000</td>\n",
       "    </tr>\n",
       "    <tr>\n",
       "      <th>max</th>\n",
       "      <td>17.000000</td>\n",
       "      <td>199.000000</td>\n",
       "      <td>122.000000</td>\n",
       "      <td>99.00000</td>\n",
       "      <td>846.000000</td>\n",
       "      <td>67.100000</td>\n",
       "      <td>2.420000</td>\n",
       "      <td>81.000000</td>\n",
       "      <td>1.000000</td>\n",
       "    </tr>\n",
       "  </tbody>\n",
       "</table>\n",
       "</div>"
      ],
      "text/plain": [
       "       Pregnancies     Glucose  BloodPressure  SkinThickness     Insulin  \\\n",
       "count   768.000000  768.000000     768.000000      768.00000  768.000000   \n",
       "mean      3.845052  121.677083      72.378906       27.43099   91.783854   \n",
       "std       3.369578   30.464161      12.104431        9.32146  108.121136   \n",
       "min       0.000000   44.000000      24.000000        7.00000    0.000000   \n",
       "25%       1.000000   99.750000      64.000000       21.00000   39.000000   \n",
       "50%       3.000000  117.000000      72.000000       27.00000   39.000000   \n",
       "75%       6.000000  140.250000      80.000000       32.00000  127.250000   \n",
       "max      17.000000  199.000000     122.000000       99.00000  846.000000   \n",
       "\n",
       "              BMI  DiabetesPedigreeFunction         Age     Outcome  \n",
       "count  768.000000                768.000000  768.000000  768.000000  \n",
       "mean    32.433919                  0.471876   33.240885    0.348958  \n",
       "std      6.880664                  0.331329   11.760232    0.476951  \n",
       "min     18.200000                  0.078000   21.000000    0.000000  \n",
       "25%     27.500000                  0.243750   24.000000    0.000000  \n",
       "50%     32.050000                  0.372500   29.000000    0.000000  \n",
       "75%     36.600000                  0.626250   41.000000    1.000000  \n",
       "max     67.100000                  2.420000   81.000000    1.000000  "
      ]
     },
     "execution_count": 17,
     "metadata": {},
     "output_type": "execute_result"
    }
   ],
   "source": [
    "diabetes_df.describe()"
   ]
  },
  {
   "cell_type": "code",
   "execution_count": 18,
   "id": "533a9b72",
   "metadata": {},
   "outputs": [
    {
     "data": {
      "image/png": "[encoded data removed]",
      "text/plain": [
       "<Figure size 432x288 with 2 Axes>"
      ]
     },
     "metadata": {
      "needs_background": "light"
     },
     "output_type": "display_data"
    }
   ],
   "source": [
    "mat=diabetes_df.corr()\n",
    "ax=sns.heatmap(mat,annot=True,fmt='.2g',cmap='Blues_r')\n",
    "b, t = plt.ylim() # discover the values for bottom and top\n",
    "b += 0.5 # Add 0.5 to the bottom\n",
    "t -= 0.5 # Subtract 0.5 from the top\n",
    "plt.ylim(b, t) # update the ylim(bottom, top) values\n",
    "plt.title('Correlation between various numerical parameters in dataset')\n",
    "plt.show()"
   ]
  },
  {
   "cell_type": "code",
   "execution_count": 19,
   "id": "5b534728",
   "metadata": {},
   "outputs": [
    {
     "data": {
      "text/html": [
       "<div>\n",
       "<style scoped>\n",
       "    .dataframe tbody tr th:only-of-type {\n",
       "        vertical-align: middle;\n",
       "    }\n",
       "\n",
       "    .dataframe tbody tr th {\n",
       "        vertical-align: top;\n",
       "    }\n",
       "\n",
       "    .dataframe thead th {\n",
       "        text-align: right;\n",
       "    }\n",
       "</style>\n",
       "<table border=\"1\" class=\"dataframe\">\n",
       "  <thead>\n",
       "    <tr style=\"text-align: right;\">\n",
       "      <th></th>\n",
       "      <th>Pregnancies</th>\n",
       "      <th>Glucose</th>\n",
       "      <th>BloodPressure</th>\n",
       "      <th>SkinThickness</th>\n",
       "      <th>Insulin</th>\n",
       "      <th>BMI</th>\n",
       "      <th>DiabetesPedigreeFunction</th>\n",
       "      <th>Age</th>\n",
       "    </tr>\n",
       "    <tr>\n",
       "      <th>Outcome</th>\n",
       "      <th></th>\n",
       "      <th></th>\n",
       "      <th></th>\n",
       "      <th></th>\n",
       "      <th></th>\n",
       "      <th></th>\n",
       "      <th></th>\n",
       "      <th></th>\n",
       "    </tr>\n",
       "  </thead>\n",
       "  <tbody>\n",
       "    <tr>\n",
       "      <th>0</th>\n",
       "      <td>500</td>\n",
       "      <td>500</td>\n",
       "      <td>500</td>\n",
       "      <td>500</td>\n",
       "      <td>500</td>\n",
       "      <td>500</td>\n",
       "      <td>500</td>\n",
       "      <td>500</td>\n",
       "    </tr>\n",
       "    <tr>\n",
       "      <th>1</th>\n",
       "      <td>268</td>\n",
       "      <td>268</td>\n",
       "      <td>268</td>\n",
       "      <td>268</td>\n",
       "      <td>268</td>\n",
       "      <td>268</td>\n",
       "      <td>268</td>\n",
       "      <td>268</td>\n",
       "    </tr>\n",
       "  </tbody>\n",
       "</table>\n",
       "</div>"
      ],
      "text/plain": [
       "         Pregnancies  Glucose  BloodPressure  SkinThickness  Insulin  BMI  \\\n",
       "Outcome                                                                     \n",
       "0                500      500            500            500      500  500   \n",
       "1                268      268            268            268      268  268   \n",
       "\n",
       "         DiabetesPedigreeFunction  Age  \n",
       "Outcome                                 \n",
       "0                             500  500  \n",
       "1                             268  268  "
      ]
     },
     "execution_count": 19,
     "metadata": {},
     "output_type": "execute_result"
    }
   ],
   "source": [
    "diabetes_df.groupby('Outcome').count()"
   ]
  },
  {
   "cell_type": "code",
   "execution_count": 20,
   "id": "c46ddf12",
   "metadata": {},
   "outputs": [
    {
     "data": {
      "image/png": "[encoded data removed]",
      "text/plain": [
       "<Figure size 432x288 with 1 Axes>"
      ]
     },
     "metadata": {},
     "output_type": "display_data"
    }
   ],
   "source": [
    "l1=len(positive_df)\n",
    "l2=len(negative_df)\n",
    "values=[round(l1/(l1+l2)*100,2),round(l2/(l1+l2)*100,2)]\n",
    "label=['Positive','Negative']\n",
    "plt.pie(x=[l1,l2],labels=label,autopct='%.2f',colors=['maroon','crimson'])\n",
    "plt.show()"
   ]
  },
  {
   "cell_type": "code",
   "execution_count": 54,
   "id": "bfcbd3f1",
   "metadata": {},
   "outputs": [
    {
     "data": {
      "text/html": [
       "<div>\n",
       "<style scoped>\n",
       "    .dataframe tbody tr th:only-of-type {\n",
       "        vertical-align: middle;\n",
       "    }\n",
       "\n",
       "    .dataframe tbody tr th {\n",
       "        vertical-align: top;\n",
       "    }\n",
       "\n",
       "    .dataframe thead th {\n",
       "        text-align: right;\n",
       "    }\n",
       "</style>\n",
       "<table border=\"1\" class=\"dataframe\">\n",
       "  <thead>\n",
       "    <tr style=\"text-align: right;\">\n",
       "      <th></th>\n",
       "      <th>Pregnancies</th>\n",
       "      <th>Glucose</th>\n",
       "      <th>BloodPressure</th>\n",
       "      <th>SkinThickness</th>\n",
       "      <th>Insulin</th>\n",
       "      <th>BMI</th>\n",
       "      <th>DiabetesPedigreeFunction</th>\n",
       "      <th>Age</th>\n",
       "      <th>Outcome</th>\n",
       "    </tr>\n",
       "  </thead>\n",
       "  <tbody>\n",
       "    <tr>\n",
       "      <th>0</th>\n",
       "      <td>6</td>\n",
       "      <td>148</td>\n",
       "      <td>72</td>\n",
       "      <td>35</td>\n",
       "      <td>0</td>\n",
       "      <td>33.6</td>\n",
       "      <td>0.627</td>\n",
       "      <td>50</td>\n",
       "      <td>1</td>\n",
       "    </tr>\n",
       "    <tr>\n",
       "      <th>2</th>\n",
       "      <td>8</td>\n",
       "      <td>183</td>\n",
       "      <td>64</td>\n",
       "      <td>27</td>\n",
       "      <td>0</td>\n",
       "      <td>23.3</td>\n",
       "      <td>0.672</td>\n",
       "      <td>32</td>\n",
       "      <td>1</td>\n",
       "    </tr>\n",
       "    <tr>\n",
       "      <th>4</th>\n",
       "      <td>0</td>\n",
       "      <td>137</td>\n",
       "      <td>40</td>\n",
       "      <td>35</td>\n",
       "      <td>168</td>\n",
       "      <td>43.1</td>\n",
       "      <td>2.288</td>\n",
       "      <td>33</td>\n",
       "      <td>1</td>\n",
       "    </tr>\n",
       "    <tr>\n",
       "      <th>6</th>\n",
       "      <td>3</td>\n",
       "      <td>78</td>\n",
       "      <td>50</td>\n",
       "      <td>32</td>\n",
       "      <td>88</td>\n",
       "      <td>31.0</td>\n",
       "      <td>0.248</td>\n",
       "      <td>26</td>\n",
       "      <td>1</td>\n",
       "    </tr>\n",
       "    <tr>\n",
       "      <th>8</th>\n",
       "      <td>2</td>\n",
       "      <td>197</td>\n",
       "      <td>70</td>\n",
       "      <td>45</td>\n",
       "      <td>543</td>\n",
       "      <td>30.5</td>\n",
       "      <td>0.158</td>\n",
       "      <td>53</td>\n",
       "      <td>1</td>\n",
       "    </tr>\n",
       "    <tr>\n",
       "      <th>...</th>\n",
       "      <td>...</td>\n",
       "      <td>...</td>\n",
       "      <td>...</td>\n",
       "      <td>...</td>\n",
       "      <td>...</td>\n",
       "      <td>...</td>\n",
       "      <td>...</td>\n",
       "      <td>...</td>\n",
       "      <td>...</td>\n",
       "    </tr>\n",
       "    <tr>\n",
       "      <th>762</th>\n",
       "      <td>9</td>\n",
       "      <td>89</td>\n",
       "      <td>62</td>\n",
       "      <td>21</td>\n",
       "      <td>39</td>\n",
       "      <td>22.5</td>\n",
       "      <td>0.142</td>\n",
       "      <td>33</td>\n",
       "      <td>0</td>\n",
       "    </tr>\n",
       "    <tr>\n",
       "      <th>763</th>\n",
       "      <td>10</td>\n",
       "      <td>101</td>\n",
       "      <td>76</td>\n",
       "      <td>48</td>\n",
       "      <td>180</td>\n",
       "      <td>32.9</td>\n",
       "      <td>0.171</td>\n",
       "      <td>63</td>\n",
       "      <td>0</td>\n",
       "    </tr>\n",
       "    <tr>\n",
       "      <th>764</th>\n",
       "      <td>2</td>\n",
       "      <td>122</td>\n",
       "      <td>70</td>\n",
       "      <td>27</td>\n",
       "      <td>39</td>\n",
       "      <td>36.8</td>\n",
       "      <td>0.340</td>\n",
       "      <td>27</td>\n",
       "      <td>0</td>\n",
       "    </tr>\n",
       "    <tr>\n",
       "      <th>765</th>\n",
       "      <td>5</td>\n",
       "      <td>121</td>\n",
       "      <td>72</td>\n",
       "      <td>23</td>\n",
       "      <td>112</td>\n",
       "      <td>26.2</td>\n",
       "      <td>0.245</td>\n",
       "      <td>30</td>\n",
       "      <td>0</td>\n",
       "    </tr>\n",
       "    <tr>\n",
       "      <th>767</th>\n",
       "      <td>1</td>\n",
       "      <td>93</td>\n",
       "      <td>70</td>\n",
       "      <td>31</td>\n",
       "      <td>39</td>\n",
       "      <td>30.4</td>\n",
       "      <td>0.315</td>\n",
       "      <td>23</td>\n",
       "      <td>0</td>\n",
       "    </tr>\n",
       "  </tbody>\n",
       "</table>\n",
       "<p>768 rows × 9 columns</p>\n",
       "</div>"
      ],
      "text/plain": [
       "     Pregnancies  Glucose  BloodPressure  SkinThickness  Insulin   BMI  \\\n",
       "0              6      148             72             35        0  33.6   \n",
       "2              8      183             64             27        0  23.3   \n",
       "4              0      137             40             35      168  43.1   \n",
       "6              3       78             50             32       88  31.0   \n",
       "8              2      197             70             45      543  30.5   \n",
       "..           ...      ...            ...            ...      ...   ...   \n",
       "762            9       89             62             21       39  22.5   \n",
       "763           10      101             76             48      180  32.9   \n",
       "764            2      122             70             27       39  36.8   \n",
       "765            5      121             72             23      112  26.2   \n",
       "767            1       93             70             31       39  30.4   \n",
       "\n",
       "     DiabetesPedigreeFunction  Age  Outcome  \n",
       "0                       0.627   50        1  \n",
       "2                       0.672   32        1  \n",
       "4                       2.288   33        1  \n",
       "6                       0.248   26        1  \n",
       "8                       0.158   53        1  \n",
       "..                        ...  ...      ...  \n",
       "762                     0.142   33        0  \n",
       "763                     0.171   63        0  \n",
       "764                     0.340   27        0  \n",
       "765                     0.245   30        0  \n",
       "767                     0.315   23        0  \n",
       "\n",
       "[768 rows x 9 columns]"
      ]
     },
     "execution_count": 54,
     "metadata": {},
     "output_type": "execute_result"
    }
   ],
   "source": [
    "df = diabetes_df\n",
    "df"
   ]
  },
  {
   "cell_type": "code",
   "execution_count": 55,
   "id": "5589ec1e",
   "metadata": {},
   "outputs": [],
   "source": [
    "x = df.iloc[:,0:-1]"
   ]
  },
  {
   "cell_type": "code",
   "execution_count": 56,
   "id": "b16b62ee",
   "metadata": {},
   "outputs": [],
   "source": [
    "y = df.iloc[:,-1:]"
   ]
  },
  {
   "cell_type": "code",
   "execution_count": 57,
   "id": "9d173a71",
   "metadata": {},
   "outputs": [
    {
     "data": {
      "text/html": [
       "<div>\n",
       "<style scoped>\n",
       "    .dataframe tbody tr th:only-of-type {\n",
       "        vertical-align: middle;\n",
       "    }\n",
       "\n",
       "    .dataframe tbody tr th {\n",
       "        vertical-align: top;\n",
       "    }\n",
       "\n",
       "    .dataframe thead th {\n",
       "        text-align: right;\n",
       "    }\n",
       "</style>\n",
       "<table border=\"1\" class=\"dataframe\">\n",
       "  <thead>\n",
       "    <tr style=\"text-align: right;\">\n",
       "      <th></th>\n",
       "      <th>Outcome</th>\n",
       "    </tr>\n",
       "  </thead>\n",
       "  <tbody>\n",
       "    <tr>\n",
       "      <th>0</th>\n",
       "      <td>1</td>\n",
       "    </tr>\n",
       "    <tr>\n",
       "      <th>2</th>\n",
       "      <td>1</td>\n",
       "    </tr>\n",
       "    <tr>\n",
       "      <th>4</th>\n",
       "      <td>1</td>\n",
       "    </tr>\n",
       "    <tr>\n",
       "      <th>6</th>\n",
       "      <td>1</td>\n",
       "    </tr>\n",
       "    <tr>\n",
       "      <th>8</th>\n",
       "      <td>1</td>\n",
       "    </tr>\n",
       "    <tr>\n",
       "      <th>...</th>\n",
       "      <td>...</td>\n",
       "    </tr>\n",
       "    <tr>\n",
       "      <th>762</th>\n",
       "      <td>0</td>\n",
       "    </tr>\n",
       "    <tr>\n",
       "      <th>763</th>\n",
       "      <td>0</td>\n",
       "    </tr>\n",
       "    <tr>\n",
       "      <th>764</th>\n",
       "      <td>0</td>\n",
       "    </tr>\n",
       "    <tr>\n",
       "      <th>765</th>\n",
       "      <td>0</td>\n",
       "    </tr>\n",
       "    <tr>\n",
       "      <th>767</th>\n",
       "      <td>0</td>\n",
       "    </tr>\n",
       "  </tbody>\n",
       "</table>\n",
       "<p>768 rows × 1 columns</p>\n",
       "</div>"
      ],
      "text/plain": [
       "     Outcome\n",
       "0          1\n",
       "2          1\n",
       "4          1\n",
       "6          1\n",
       "8          1\n",
       "..       ...\n",
       "762        0\n",
       "763        0\n",
       "764        0\n",
       "765        0\n",
       "767        0\n",
       "\n",
       "[768 rows x 1 columns]"
      ]
     },
     "execution_count": 57,
     "metadata": {},
     "output_type": "execute_result"
    }
   ],
   "source": [
    "y"
   ]
  },
  {
   "cell_type": "code",
   "execution_count": 58,
   "id": "819cc652",
   "metadata": {},
   "outputs": [
    {
     "data": {
      "text/html": [
       "<div>\n",
       "<style scoped>\n",
       "    .dataframe tbody tr th:only-of-type {\n",
       "        vertical-align: middle;\n",
       "    }\n",
       "\n",
       "    .dataframe tbody tr th {\n",
       "        vertical-align: top;\n",
       "    }\n",
       "\n",
       "    .dataframe thead th {\n",
       "        text-align: right;\n",
       "    }\n",
       "</style>\n",
       "<table border=\"1\" class=\"dataframe\">\n",
       "  <thead>\n",
       "    <tr style=\"text-align: right;\">\n",
       "      <th></th>\n",
       "      <th>Pregnancies</th>\n",
       "      <th>Glucose</th>\n",
       "      <th>BloodPressure</th>\n",
       "      <th>SkinThickness</th>\n",
       "      <th>Insulin</th>\n",
       "      <th>BMI</th>\n",
       "      <th>DiabetesPedigreeFunction</th>\n",
       "      <th>Age</th>\n",
       "    </tr>\n",
       "  </thead>\n",
       "  <tbody>\n",
       "    <tr>\n",
       "      <th>0</th>\n",
       "      <td>6</td>\n",
       "      <td>148</td>\n",
       "      <td>72</td>\n",
       "      <td>35</td>\n",
       "      <td>0</td>\n",
       "      <td>33.6</td>\n",
       "      <td>0.627</td>\n",
       "      <td>50</td>\n",
       "    </tr>\n",
       "    <tr>\n",
       "      <th>2</th>\n",
       "      <td>8</td>\n",
       "      <td>183</td>\n",
       "      <td>64</td>\n",
       "      <td>27</td>\n",
       "      <td>0</td>\n",
       "      <td>23.3</td>\n",
       "      <td>0.672</td>\n",
       "      <td>32</td>\n",
       "    </tr>\n",
       "    <tr>\n",
       "      <th>4</th>\n",
       "      <td>0</td>\n",
       "      <td>137</td>\n",
       "      <td>40</td>\n",
       "      <td>35</td>\n",
       "      <td>168</td>\n",
       "      <td>43.1</td>\n",
       "      <td>2.288</td>\n",
       "      <td>33</td>\n",
       "    </tr>\n",
       "    <tr>\n",
       "      <th>6</th>\n",
       "      <td>3</td>\n",
       "      <td>78</td>\n",
       "      <td>50</td>\n",
       "      <td>32</td>\n",
       "      <td>88</td>\n",
       "      <td>31.0</td>\n",
       "      <td>0.248</td>\n",
       "      <td>26</td>\n",
       "    </tr>\n",
       "    <tr>\n",
       "      <th>8</th>\n",
       "      <td>2</td>\n",
       "      <td>197</td>\n",
       "      <td>70</td>\n",
       "      <td>45</td>\n",
       "      <td>543</td>\n",
       "      <td>30.5</td>\n",
       "      <td>0.158</td>\n",
       "      <td>53</td>\n",
       "    </tr>\n",
       "    <tr>\n",
       "      <th>...</th>\n",
       "      <td>...</td>\n",
       "      <td>...</td>\n",
       "      <td>...</td>\n",
       "      <td>...</td>\n",
       "      <td>...</td>\n",
       "      <td>...</td>\n",
       "      <td>...</td>\n",
       "      <td>...</td>\n",
       "    </tr>\n",
       "    <tr>\n",
       "      <th>762</th>\n",
       "      <td>9</td>\n",
       "      <td>89</td>\n",
       "      <td>62</td>\n",
       "      <td>21</td>\n",
       "      <td>39</td>\n",
       "      <td>22.5</td>\n",
       "      <td>0.142</td>\n",
       "      <td>33</td>\n",
       "    </tr>\n",
       "    <tr>\n",
       "      <th>763</th>\n",
       "      <td>10</td>\n",
       "      <td>101</td>\n",
       "      <td>76</td>\n",
       "      <td>48</td>\n",
       "      <td>180</td>\n",
       "      <td>32.9</td>\n",
       "      <td>0.171</td>\n",
       "      <td>63</td>\n",
       "    </tr>\n",
       "    <tr>\n",
       "      <th>764</th>\n",
       "      <td>2</td>\n",
       "      <td>122</td>\n",
       "      <td>70</td>\n",
       "      <td>27</td>\n",
       "      <td>39</td>\n",
       "      <td>36.8</td>\n",
       "      <td>0.340</td>\n",
       "      <td>27</td>\n",
       "    </tr>\n",
       "    <tr>\n",
       "      <th>765</th>\n",
       "      <td>5</td>\n",
       "      <td>121</td>\n",
       "      <td>72</td>\n",
       "      <td>23</td>\n",
       "      <td>112</td>\n",
       "      <td>26.2</td>\n",
       "      <td>0.245</td>\n",
       "      <td>30</td>\n",
       "    </tr>\n",
       "    <tr>\n",
       "      <th>767</th>\n",
       "      <td>1</td>\n",
       "      <td>93</td>\n",
       "      <td>70</td>\n",
       "      <td>31</td>\n",
       "      <td>39</td>\n",
       "      <td>30.4</td>\n",
       "      <td>0.315</td>\n",
       "      <td>23</td>\n",
       "    </tr>\n",
       "  </tbody>\n",
       "</table>\n",
       "<p>768 rows × 8 columns</p>\n",
       "</div>"
      ],
      "text/plain": [
       "     Pregnancies  Glucose  BloodPressure  SkinThickness  Insulin   BMI  \\\n",
       "0              6      148             72             35        0  33.6   \n",
       "2              8      183             64             27        0  23.3   \n",
       "4              0      137             40             35      168  43.1   \n",
       "6              3       78             50             32       88  31.0   \n",
       "8              2      197             70             45      543  30.5   \n",
       "..           ...      ...            ...            ...      ...   ...   \n",
       "762            9       89             62             21       39  22.5   \n",
       "763           10      101             76             48      180  32.9   \n",
       "764            2      122             70             27       39  36.8   \n",
       "765            5      121             72             23      112  26.2   \n",
       "767            1       93             70             31       39  30.4   \n",
       "\n",
       "     DiabetesPedigreeFunction  Age  \n",
       "0                       0.627   50  \n",
       "2                       0.672   32  \n",
       "4                       2.288   33  \n",
       "6                       0.248   26  \n",
       "8                       0.158   53  \n",
       "..                        ...  ...  \n",
       "762                     0.142   33  \n",
       "763                     0.171   63  \n",
       "764                     0.340   27  \n",
       "765                     0.245   30  \n",
       "767                     0.315   23  \n",
       "\n",
       "[768 rows x 8 columns]"
      ]
     },
     "execution_count": 58,
     "metadata": {},
     "output_type": "execute_result"
    }
   ],
   "source": [
    "x"
   ]
  },
  {
   "cell_type": "code",
   "execution_count": 59,
   "id": "ae8e5718",
   "metadata": {},
   "outputs": [],
   "source": [
    "from sklearn.model_selection import train_test_split"
   ]
  },
  {
   "cell_type": "code",
   "execution_count": 61,
   "id": "c0c9b47c",
   "metadata": {},
   "outputs": [],
   "source": [
    "from sklearn.linear_model import LogisticRegression"
   ]
  },
  {
   "cell_type": "code",
   "execution_count": 62,
   "id": "29be61e9",
   "metadata": {},
   "outputs": [],
   "source": [
    "x_train,x_test,y_train,y_test = train_test_split(x,y,test_size= 0.2,random_state= 0 )"
   ]
  },
  {
   "cell_type": "code",
   "execution_count": 64,
   "id": "ecd6bde1",
   "metadata": {},
   "outputs": [],
   "source": [
    "mod = LogisticRegression()"
   ]
  },
  {
   "cell_type": "code",
   "execution_count": 65,
   "id": "aa492096",
   "metadata": {},
   "outputs": [
    {
     "name": "stderr",
     "output_type": "stream",
     "text": [
      "C:\\Users\\leojn\\anaconda3\\lib\\site-packages\\sklearn\\utils\\validation.py:993: DataConversionWarning: A column-vector y was passed when a 1d array was expected. Please change the shape of y to (n_samples, ), for example using ravel().\n",
      "  y = column_or_1d(y, warn=True)\n",
      "C:\\Users\\leojn\\anaconda3\\lib\\site-packages\\sklearn\\linear_model\\_logistic.py:814: ConvergenceWarning: lbfgs failed to converge (status=1):\n",
      "STOP: TOTAL NO. of ITERATIONS REACHED LIMIT.\n",
      "\n",
      "Increase the number of iterations (max_iter) or scale the data as shown in:\n",
      "    https://scikit-learn.org/stable/modules/preprocessing.html\n",
      "Please also refer to the documentation for alternative solver options:\n",
      "    https://scikit-learn.org/stable/modules/linear_model.html#logistic-regression\n",
      "  n_iter_i = _check_optimize_result(\n"
     ]
    },
    {
     "data": {
      "text/plain": [
       "LogisticRegression()"
      ]
     },
     "execution_count": 65,
     "metadata": {},
     "output_type": "execute_result"
    }
   ],
   "source": [
    "mod.fit(x_train,y_train)"
   ]
  },
  {
   "cell_type": "code",
   "execution_count": 66,
   "id": "78a6b8df",
   "metadata": {},
   "outputs": [],
   "source": [
    "y_pred = mod.predict(x_test)"
   ]
  },
  {
   "cell_type": "code",
   "execution_count": 67,
   "id": "c2be26fc",
   "metadata": {},
   "outputs": [],
   "source": [
    "from sklearn.metrics import accuracy_score,confusion_matrix"
   ]
  },
  {
   "cell_type": "code",
   "execution_count": 68,
   "id": "1daa4714",
   "metadata": {},
   "outputs": [
    {
     "data": {
      "text/plain": [
       "0.7792207792207793"
      ]
     },
     "execution_count": 68,
     "metadata": {},
     "output_type": "execute_result"
    }
   ],
   "source": [
    "accuracy_score(y_pred,y_test)"
   ]
  },
  {
   "cell_type": "code",
   "execution_count": 69,
   "id": "a56cd042",
   "metadata": {},
   "outputs": [
    {
     "data": {
      "text/plain": [
       "array([[85, 21],\n",
       "       [13, 35]], dtype=int64)"
      ]
     },
     "execution_count": 69,
     "metadata": {},
     "output_type": "execute_result"
    }
   ],
   "source": [
    "confusion_matrix(y_pred,y_test)"
   ]
  },
  {
   "cell_type": "markdown",
   "id": "dab389b1",
   "metadata": {},
   "source": [
    "### Hypothesis Testing "
   ]
  },
  {
   "cell_type": "code",
   "execution_count": 22,
   "id": "f84e186d",
   "metadata": {},
   "outputs": [],
   "source": [
    "preg_0=positive_df[positive_df['Pregnancies']==0]\n",
    "preg_1=positive_df[positive_df['Pregnancies']==1]\n",
    "preg_2=positive_df[positive_df['Pregnancies']==2]\n",
    "preg_3=positive_df[positive_df['Pregnancies']==3]\n",
    "preg_4=positive_df[positive_df['Pregnancies']==4]\n",
    "preg_5=positive_df[positive_df['Pregnancies']==5]\n",
    "preg_6=positive_df[positive_df['Pregnancies']==6]\n",
    "preg_7=positive_df[positive_df['Pregnancies']==7]\n",
    "preg_8=positive_df[positive_df['Pregnancies']==8]\n",
    "preg_9=positive_df[positive_df['Pregnancies']==9]\n",
    "preg_10=positive_df[positive_df['Pregnancies']==10]\n",
    "preg_11=positive_df[positive_df['Pregnancies']==11]\n",
    "preg_12=positive_df[positive_df['Pregnancies']==12]\n",
    "preg_13=positive_df[positive_df['Pregnancies']==13]\n",
    "preg_14=positive_df[positive_df['Pregnancies']==14]\n",
    "preg_15=positive_df[positive_df['Pregnancies']==15]\n",
    "preg_16=positive_df[positive_df['Pregnancies']==16]\n",
    "preg_17=positive_df[positive_df['Pregnancies']==17]"
   ]
  },
  {
   "cell_type": "markdown",
   "id": "3f4c0284",
   "metadata": {},
   "source": [
    "#### Blood Pressure vs. Outcome "
   ]
  },
  {
   "cell_type": "markdown",
   "id": "be794e76",
   "metadata": {},
   "source": [
    "$$H0:(Mu_{bloodpressure})_{diabteic}-(Mu_{blood pressure})_{non-diabetic} \\leq 0$$"
   ]
  },
  {
   "cell_type": "markdown",
   "id": "0daa6f1a",
   "metadata": {},
   "source": [
    "$$H1:(Mu_{bloodpressure})_{diabteic}-(Mu_{blood pressure})_{non-diabetic} > 0$$"
   ]
  },
  {
   "cell_type": "code",
   "execution_count": 23,
   "id": "24e292c1",
   "metadata": {},
   "outputs": [
    {
     "name": "stdout",
     "output_type": "stream",
     "text": [
      "0.0010561159579083323 0.0004950868315063417\n",
      "MannwhitneyuResult(statistic=52131.0, pvalue=1.867937406180911e-07)\n"
     ]
    }
   ],
   "source": [
    "print(st.shapiro(positive_df['BloodPressure'])[1],st.shapiro(negative_df['BloodPressure'])[1])\n",
    "print(st.mannwhitneyu(negative_df['BloodPressure'],positive_df['BloodPressure'],alternative='less'))"
   ]
  },
  {
   "cell_type": "markdown",
   "id": "a2e5071d",
   "metadata": {},
   "source": [
    "#### Shapiro Test result\n",
    "The pvalue<<0.05 the data is not normally distributed. We shall now continue with the MannWhitneyU test.<br>\n",
    "Result of MannWhitneyU Test<br>\n",
    "pvalue<0.05. Test statistic falls in rejection region.We now reject H0.<br>\n",
    "We can now conclude that Blood Pressure is higher for Diabetic women<br>\n",
    "\n",
    " "
   ]
  },
  {
   "cell_type": "code",
   "execution_count": 24,
   "id": "fea23e29",
   "metadata": {},
   "outputs": [
    {
     "data": {
      "image/png": "[encoded data removed]",
      "text/plain": [
       "<Figure size 432x288 with 1 Axes>"
      ]
     },
     "metadata": {
      "needs_background": "light"
     },
     "output_type": "display_data"
    }
   ],
   "source": [
    "sns.boxenplot(x='Outcome',y='BloodPressure',data=diabetes_df)\n",
    "plt.title('Effect of Outcome on Blood Pressure')\n",
    "plt.show()"
   ]
  },
  {
   "cell_type": "markdown",
   "id": "61c9ff90",
   "metadata": {},
   "source": [
    "###### From the above graph we can see that medain of Blood Pressure for diabetic women is slightly higher than for non- diabetic women"
   ]
  },
  {
   "cell_type": "markdown",
   "id": "34ddc5d6",
   "metadata": {},
   "source": [
    "#### Diabetic patients tend to have a BP of 80 or above"
   ]
  },
  {
   "cell_type": "markdown",
   "id": "abb09a3d",
   "metadata": {},
   "source": [
    "$$H0:(M)_{bloodpressure} \\leq 80$$\n",
    "$$H1:(M)_{bloodpressure} > 80$$\n",
    " \n",
    " "
   ]
  },
  {
   "cell_type": "code",
   "execution_count": 25,
   "id": "4aaa1f30",
   "metadata": {},
   "outputs": [
    {
     "data": {
      "text/plain": [
       "WilcoxonResult(statistic=8576.0, pvalue=0.9999999999762162)"
      ]
     },
     "execution_count": 25,
     "metadata": {},
     "output_type": "execute_result"
    }
   ],
   "source": [
    "mu=80\n",
    "bp=[]\n",
    "for i in positive_df['BloodPressure']:\n",
    "    bp.append(i-mu)\n",
    "    \n",
    "st.wilcoxon(bp,alternative='greater')"
   ]
  },
  {
   "cell_type": "markdown",
   "id": "5172af00",
   "metadata": {},
   "source": [
    "pvalue>0.95. The test statistic falls in the rejection region.<br>\n",
    "Therefore we reject H0.<br> Women with BP above 80 (or high BP) are at a higher risk of getting diabetes<br>\n",
    "We shall further check if diabetic women tend to have varying blood pressure based on pregnancies<br>"
   ]
  },
  {
   "cell_type": "markdown",
   "id": "292f212a",
   "metadata": {},
   "source": [
    "#### Blood Pressure vs. Pregnancies"
   ]
  },
  {
   "cell_type": "markdown",
   "id": "0abceaf1",
   "metadata": {},
   "source": [
    "We shall start the process with a shapiro test to check for normality of datasets.<br>\n",
    "Following this we shall conduct a shapiro test on p.<br>\n",
    "If the pvalue of the test<0.05 we shall break out of the loop.<br>\n",
    "If any one of the datasets are not normally distributed, we shall then proceed with the kruskal test which is a non-parametric equivalent of one way ANOVA.<br> "
   ]
  },
  {
   "cell_type": "code",
   "execution_count": 26,
   "id": "3ff529cd",
   "metadata": {},
   "outputs": [
    {
     "name": "stdout",
     "output_type": "stream",
     "text": [
      "5\n",
      "ShapiroResult(statistic=0.8932729363441467, pvalue=0.025970375165343285)\n"
     ]
    }
   ],
   "source": [
    "for i in range(18):\n",
    "    p=positive_df[positive_df['Pregnancies']==i]['BloodPressure']\n",
    "    if st.shapiro(p)[1]>0.95 or st.shapiro(p)[1]<0.05:\n",
    "        print(i)\n",
    "        print(st.shapiro(p))\n",
    "        break"
   ]
  },
  {
   "cell_type": "markdown",
   "id": "0ab96bfe",
   "metadata": {},
   "source": [
    "Pregnancy 5 dataset is not normally distributed thus we shall proceed with Kruskal test to determine if the means of all values are equal.<br>\n",
    "#### Hypothesis:\n",
    "H0: Average Blood Pressure of all the pregnancies are same<br>\n",
    "H1: Average Blood Pressure of atleast one pregnancy is different"
   ]
  },
  {
   "cell_type": "code",
   "execution_count": 27,
   "id": "14ca9f58",
   "metadata": {},
   "outputs": [
    {
     "name": "stdout",
     "output_type": "stream",
     "text": [
      "KruskalResult(statistic=23.13954284790189, pvalue=0.11005480973799606)\n"
     ]
    }
   ],
   "source": [
    "print(st.kruskal(preg_0['BloodPressure'],preg_1['BloodPressure'],preg_2['BloodPressure'],preg_3['BloodPressure'],preg_4['BloodPressure'],preg_5['BloodPressure'],preg_6['BloodPressure'],preg_7['BloodPressure'],preg_8['BloodPressure'],preg_9['BloodPressure'],preg_10['BloodPressure'],preg_11['BloodPressure'],preg_12['BloodPressure'],preg_13['BloodPressure'],preg_14['BloodPressure'],preg_15['BloodPressure'],preg_17['BloodPressure']))"
   ]
  },
  {
   "cell_type": "markdown",
   "id": "6b1160e8",
   "metadata": {},
   "source": [
    "The pvalue of the test is >0.05. Statistic falls in the non rejection region.<br>\n",
    "We fail to reject H0.<br>\n",
    "#### Conclusion:<br> \n",
    "Average BP of all pregnancies in diabetic women are the same. (or) Blood Pressure does not change with pregnancy"
   ]
  },
  {
   "cell_type": "code",
   "execution_count": 28,
   "id": "6bbc58e6",
   "metadata": {},
   "outputs": [
    {
     "data": {
      "image/png": "[encoded data removed]",
      "text/plain": [
       "<Figure size 720x720 with 1 Axes>"
      ]
     },
     "metadata": {
      "needs_background": "light"
     },
     "output_type": "display_data"
    }
   ],
   "source": [
    "plt.figure(figsize=(10,10))\n",
    "ax=sns.lineplot(x='Pregnancies',y='BloodPressure',data=diabetes_df,hue='Outcome',style='Outcome',markers=True)\n",
    "plt.xticks([0,1,2,3,4,5,6,7,8,9,10,11,12,13,14,15,16,17])\n",
    "plt.title('Effect of Pregnancies on Blood Pressure')\n",
    "plt.show()"
   ]
  },
  {
   "cell_type": "markdown",
   "id": "874376a3",
   "metadata": {},
   "source": [
    "#### BMI vs Outcome<br>\n",
    "BMI of diabetic women tend to be higher than for non-diabetic women<br>\n",
    "$$H0:(Mu_{BMI})_{diabteic}-(Mu_{BMI})_{non-diabetic} \\leq 0$$<br>\n",
    "$$H1:(Mu_{BMI})_{diabteic}-(Mu_{BMI})_{non-diabetic}>0$$<br>"
   ]
  },
  {
   "cell_type": "code",
   "execution_count": 29,
   "id": "a054c61b",
   "metadata": {},
   "outputs": [
    {
     "name": "stdout",
     "output_type": "stream",
     "text": [
      "Shapiro:  4.4691375933325617e-08 4.4733014874509536e-06\n",
      "MannwhitneyuResult(statistic=41626.0, pvalue=2.379984980745742e-18)\n"
     ]
    }
   ],
   "source": [
    "print(\"Shapiro: \",st.shapiro(positive_df['BMI'])[1],st.shapiro(negative_df['BMI'])[1])\n",
    "print(st.mannwhitneyu(negative_df['BMI'],positive_df['BMI'],alternative='less'))\n"
   ]
  },
  {
   "cell_type": "markdown",
   "id": "ea85020d",
   "metadata": {},
   "source": [
    "#### Result of Shapiro test<br>\n",
    "Since pvalue for both datasets <<0.05 we can conclude that both the datasets are not normal.<br> \n",
    "We shall now continue with the MannWhitneyU test.<br>\n",
    "Result of MannWhitneyU test<br>\n",
    "pvalue<0.05. The test statistic falls in the rejection region. We can therefore reject H0.<br>\n",
    "Thus we can conclude that BMI is higher for Diabetic women<br>"
   ]
  },
  {
   "cell_type": "code",
   "execution_count": 30,
   "id": "84bd8697",
   "metadata": {},
   "outputs": [
    {
     "data": {
      "image/png": "[encoded data removed]",
      "text/plain": [
       "<Figure size 432x288 with 1 Axes>"
      ]
     },
     "metadata": {
      "needs_background": "light"
     },
     "output_type": "display_data"
    }
   ],
   "source": [
    "sns.boxenplot(x='Outcome',y='BMI',data=diabetes_df)\n",
    "plt.title('Effect of Outcome on BMI')\n",
    "plt.show()"
   ]
  },
  {
   "cell_type": "markdown",
   "id": "839aad8f",
   "metadata": {},
   "source": [
    "The above graph proves our hypothesis that diabetic women tend to have a higher BMI"
   ]
  },
  {
   "cell_type": "markdown",
   "id": "318e5cb4",
   "metadata": {},
   "source": [
    "#### $$H0:(Mu_{BMI})_{diabetic} \\leq 36$$\n",
    "#### $$H1:(Mu_{BMI})_{diabetic} > 36$$"
   ]
  },
  {
   "cell_type": "code",
   "execution_count": 31,
   "id": "9ad59f85",
   "metadata": {},
   "outputs": [
    {
     "name": "stdout",
     "output_type": "stream",
     "text": [
      "WilcoxonResult(statistic=14435.5, pvalue=0.9968762501767908)\n"
     ]
    }
   ],
   "source": [
    "mu=36\n",
    "bmi=[]\n",
    "for i in positive_df['BMI']:\n",
    "    bmi.append(i-mu)\n",
    "print(st.wilcoxon(bmi,alternative='greater'))"
   ]
  },
  {
   "cell_type": "markdown",
   "id": "479c0471",
   "metadata": {},
   "source": [
    "From the above result we can see that women who are obese are at a greater risk of getting diabetes.<br>\n",
    "We shall see if pregnancies actually impact BMI in diabetic women<br>"
   ]
  },
  {
   "cell_type": "markdown",
   "id": "45eac024",
   "metadata": {},
   "source": [
    "#### BMI vs Pregnancies"
   ]
  },
  {
   "cell_type": "code",
   "execution_count": 32,
   "id": "dfc74cd5",
   "metadata": {},
   "outputs": [
    {
     "name": "stdout",
     "output_type": "stream",
     "text": [
      "0\n",
      "ShapiroResult(statistic=0.8856268525123596, pvalue=0.0010262097930535674)\n"
     ]
    }
   ],
   "source": [
    "for i in range(18):\n",
    "    p=positive_df[positive_df['Pregnancies']==i]['BMI']\n",
    "    if st.shapiro(p)[1]>0.95 or st.shapiro(p)[1]<0.05:\n",
    "        print(i)\n",
    "        print(st.shapiro(p))\n",
    "        break"
   ]
  },
  {
   "cell_type": "markdown",
   "id": "97328fc1",
   "metadata": {},
   "source": [
    "Pregnancy 0 dataset is not normally distributed thus we shall proceed with Kruskal test to determine if the means of all values are equal.<br>\n",
    "Hypothesis:<br>\n",
    "H0: Average BMI of all the pregnancies are same<br>\n",
    "H1: Average BMI of atleast one pregnancy is different<br>"
   ]
  },
  {
   "cell_type": "code",
   "execution_count": 33,
   "id": "9134d155",
   "metadata": {},
   "outputs": [
    {
     "name": "stdout",
     "output_type": "stream",
     "text": [
      "KruskalResult(statistic=33.684187454400174, pvalue=0.005990700655478816)\n"
     ]
    }
   ],
   "source": [
    "print(st.kruskal(preg_0['BMI'],preg_1['BMI'],preg_2['BMI'],preg_3['BMI'],preg_4['BMI'],preg_5['BMI'],preg_6['BMI'],preg_7['BMI'],preg_8['BMI'],preg_9['BMI'],preg_10['BMI'],preg_11['BMI'],preg_12['BMI'],preg_13['BMI'],preg_14['BMI'],preg_15['BMI'],preg_17['BMI']))"
   ]
  },
  {
   "cell_type": "markdown",
   "id": "c6479bd1",
   "metadata": {},
   "source": [
    "pvalue<0.05 test statistic falls in the rejection region<br>\n",
    "We shall then conclude that BMI is dependant on number of pregnancies a woman has had<br>\n",
    "We shall conduct a posthoc test to check which combinations of pregnancies does not have the same average BMI<br>"
   ]
  },
  {
   "cell_type": "code",
   "execution_count": 34,
   "id": "34911376",
   "metadata": {},
   "outputs": [
    {
     "data": {
      "text/html": [
       "<div>\n",
       "<style scoped>\n",
       "    .dataframe tbody tr th:only-of-type {\n",
       "        vertical-align: middle;\n",
       "    }\n",
       "\n",
       "    .dataframe tbody tr th {\n",
       "        vertical-align: top;\n",
       "    }\n",
       "\n",
       "    .dataframe thead th {\n",
       "        text-align: right;\n",
       "    }\n",
       "</style>\n",
       "<table border=\"1\" class=\"dataframe\">\n",
       "  <thead>\n",
       "    <tr style=\"text-align: right;\">\n",
       "      <th></th>\n",
       "      <th>0</th>\n",
       "      <th>1</th>\n",
       "      <th>2</th>\n",
       "      <th>3</th>\n",
       "      <th>4</th>\n",
       "      <th>5</th>\n",
       "      <th>6</th>\n",
       "      <th>7</th>\n",
       "      <th>8</th>\n",
       "      <th>9</th>\n",
       "      <th>10</th>\n",
       "      <th>11</th>\n",
       "      <th>12</th>\n",
       "      <th>13</th>\n",
       "      <th>14</th>\n",
       "      <th>15</th>\n",
       "      <th>17</th>\n",
       "    </tr>\n",
       "  </thead>\n",
       "  <tbody>\n",
       "    <tr>\n",
       "      <th>0</th>\n",
       "      <td>1.000000</td>\n",
       "      <td>0.659546</td>\n",
       "      <td>0.021665</td>\n",
       "      <td>0.000346</td>\n",
       "      <td>0.003003</td>\n",
       "      <td>0.282621</td>\n",
       "      <td>0.000210</td>\n",
       "      <td>0.032677</td>\n",
       "      <td>0.004286</td>\n",
       "      <td>0.002228</td>\n",
       "      <td>0.125801</td>\n",
       "      <td>0.937616</td>\n",
       "      <td>0.210216</td>\n",
       "      <td>0.574349</td>\n",
       "      <td>0.627446</td>\n",
       "      <td>0.922124</td>\n",
       "      <td>0.566878</td>\n",
       "    </tr>\n",
       "    <tr>\n",
       "      <th>1</th>\n",
       "      <td>0.659546</td>\n",
       "      <td>1.000000</td>\n",
       "      <td>0.068258</td>\n",
       "      <td>0.002896</td>\n",
       "      <td>0.015138</td>\n",
       "      <td>0.521296</td>\n",
       "      <td>0.001307</td>\n",
       "      <td>0.104725</td>\n",
       "      <td>0.019717</td>\n",
       "      <td>0.010333</td>\n",
       "      <td>0.234366</td>\n",
       "      <td>0.738076</td>\n",
       "      <td>0.302073</td>\n",
       "      <td>0.743244</td>\n",
       "      <td>0.739082</td>\n",
       "      <td>0.838209</td>\n",
       "      <td>0.498350</td>\n",
       "    </tr>\n",
       "    <tr>\n",
       "      <th>2</th>\n",
       "      <td>0.021665</td>\n",
       "      <td>0.068258</td>\n",
       "      <td>1.000000</td>\n",
       "      <td>0.378824</td>\n",
       "      <td>0.646287</td>\n",
       "      <td>0.261333</td>\n",
       "      <td>0.165479</td>\n",
       "      <td>0.752452</td>\n",
       "      <td>0.694799</td>\n",
       "      <td>0.475830</td>\n",
       "      <td>0.791626</td>\n",
       "      <td>0.124513</td>\n",
       "      <td>0.983927</td>\n",
       "      <td>0.448335</td>\n",
       "      <td>0.690141</td>\n",
       "      <td>0.466426</td>\n",
       "      <td>0.231661</td>\n",
       "    </tr>\n",
       "    <tr>\n",
       "      <th>3</th>\n",
       "      <td>0.000346</td>\n",
       "      <td>0.002896</td>\n",
       "      <td>0.378824</td>\n",
       "      <td>1.000000</td>\n",
       "      <td>0.668744</td>\n",
       "      <td>0.033941</td>\n",
       "      <td>0.510407</td>\n",
       "      <td>0.195685</td>\n",
       "      <td>0.623961</td>\n",
       "      <td>0.923838</td>\n",
       "      <td>0.322017</td>\n",
       "      <td>0.026692</td>\n",
       "      <td>0.637300</td>\n",
       "      <td>0.185976</td>\n",
       "      <td>0.444916</td>\n",
       "      <td>0.321119</td>\n",
       "      <td>0.143569</td>\n",
       "    </tr>\n",
       "    <tr>\n",
       "      <th>4</th>\n",
       "      <td>0.003003</td>\n",
       "      <td>0.015138</td>\n",
       "      <td>0.646287</td>\n",
       "      <td>0.668744</td>\n",
       "      <td>1.000000</td>\n",
       "      <td>0.099593</td>\n",
       "      <td>0.312424</td>\n",
       "      <td>0.409795</td>\n",
       "      <td>0.948114</td>\n",
       "      <td>0.769212</td>\n",
       "      <td>0.517030</td>\n",
       "      <td>0.057447</td>\n",
       "      <td>0.808617</td>\n",
       "      <td>0.289161</td>\n",
       "      <td>0.551916</td>\n",
       "      <td>0.384010</td>\n",
       "      <td>0.180263</td>\n",
       "    </tr>\n",
       "    <tr>\n",
       "      <th>5</th>\n",
       "      <td>0.282621</td>\n",
       "      <td>0.521296</td>\n",
       "      <td>0.261333</td>\n",
       "      <td>0.033941</td>\n",
       "      <td>0.099593</td>\n",
       "      <td>1.000000</td>\n",
       "      <td>0.013189</td>\n",
       "      <td>0.379949</td>\n",
       "      <td>0.117298</td>\n",
       "      <td>0.066808</td>\n",
       "      <td>0.510623</td>\n",
       "      <td>0.457161</td>\n",
       "      <td>0.501111</td>\n",
       "      <td>0.959594</td>\n",
       "      <td>0.935718</td>\n",
       "      <td>0.702112</td>\n",
       "      <td>0.394138</td>\n",
       "    </tr>\n",
       "    <tr>\n",
       "      <th>6</th>\n",
       "      <td>0.000210</td>\n",
       "      <td>0.001307</td>\n",
       "      <td>0.165479</td>\n",
       "      <td>0.510407</td>\n",
       "      <td>0.312424</td>\n",
       "      <td>0.013189</td>\n",
       "      <td>1.000000</td>\n",
       "      <td>0.077224</td>\n",
       "      <td>0.289256</td>\n",
       "      <td>0.490836</td>\n",
       "      <td>0.154793</td>\n",
       "      <td>0.011519</td>\n",
       "      <td>0.410486</td>\n",
       "      <td>0.096933</td>\n",
       "      <td>0.306405</td>\n",
       "      <td>0.237577</td>\n",
       "      <td>0.099933</td>\n",
       "    </tr>\n",
       "    <tr>\n",
       "      <th>7</th>\n",
       "      <td>0.032677</td>\n",
       "      <td>0.104725</td>\n",
       "      <td>0.752452</td>\n",
       "      <td>0.195685</td>\n",
       "      <td>0.409795</td>\n",
       "      <td>0.379949</td>\n",
       "      <td>0.077224</td>\n",
       "      <td>1.000000</td>\n",
       "      <td>0.454210</td>\n",
       "      <td>0.285325</td>\n",
       "      <td>0.984606</td>\n",
       "      <td>0.172263</td>\n",
       "      <td>0.842381</td>\n",
       "      <td>0.560453</td>\n",
       "      <td>0.785086</td>\n",
       "      <td>0.523016</td>\n",
       "      <td>0.267195</td>\n",
       "    </tr>\n",
       "    <tr>\n",
       "      <th>8</th>\n",
       "      <td>0.004286</td>\n",
       "      <td>0.019717</td>\n",
       "      <td>0.694799</td>\n",
       "      <td>0.623961</td>\n",
       "      <td>0.948114</td>\n",
       "      <td>0.117298</td>\n",
       "      <td>0.289256</td>\n",
       "      <td>0.454210</td>\n",
       "      <td>1.000000</td>\n",
       "      <td>0.725165</td>\n",
       "      <td>0.553388</td>\n",
       "      <td>0.064934</td>\n",
       "      <td>0.837024</td>\n",
       "      <td>0.309319</td>\n",
       "      <td>0.570331</td>\n",
       "      <td>0.394896</td>\n",
       "      <td>0.186901</td>\n",
       "    </tr>\n",
       "    <tr>\n",
       "      <th>9</th>\n",
       "      <td>0.002228</td>\n",
       "      <td>0.010333</td>\n",
       "      <td>0.475830</td>\n",
       "      <td>0.923838</td>\n",
       "      <td>0.769212</td>\n",
       "      <td>0.066808</td>\n",
       "      <td>0.490836</td>\n",
       "      <td>0.285325</td>\n",
       "      <td>0.725165</td>\n",
       "      <td>1.000000</td>\n",
       "      <td>0.391980</td>\n",
       "      <td>0.040703</td>\n",
       "      <td>0.685936</td>\n",
       "      <td>0.223741</td>\n",
       "      <td>0.476386</td>\n",
       "      <td>0.339476</td>\n",
       "      <td>0.155126</td>\n",
       "    </tr>\n",
       "    <tr>\n",
       "      <th>10</th>\n",
       "      <td>0.125801</td>\n",
       "      <td>0.234366</td>\n",
       "      <td>0.791626</td>\n",
       "      <td>0.322017</td>\n",
       "      <td>0.517030</td>\n",
       "      <td>0.510623</td>\n",
       "      <td>0.154793</td>\n",
       "      <td>0.984606</td>\n",
       "      <td>0.553388</td>\n",
       "      <td>0.391980</td>\n",
       "      <td>1.000000</td>\n",
       "      <td>0.241854</td>\n",
       "      <td>0.846797</td>\n",
       "      <td>0.611753</td>\n",
       "      <td>0.803062</td>\n",
       "      <td>0.539097</td>\n",
       "      <td>0.283687</td>\n",
       "    </tr>\n",
       "    <tr>\n",
       "      <th>11</th>\n",
       "      <td>0.937616</td>\n",
       "      <td>0.738076</td>\n",
       "      <td>0.124513</td>\n",
       "      <td>0.026692</td>\n",
       "      <td>0.057447</td>\n",
       "      <td>0.457161</td>\n",
       "      <td>0.011519</td>\n",
       "      <td>0.172263</td>\n",
       "      <td>0.064934</td>\n",
       "      <td>0.040703</td>\n",
       "      <td>0.241854</td>\n",
       "      <td>1.000000</td>\n",
       "      <td>0.270250</td>\n",
       "      <td>0.609133</td>\n",
       "      <td>0.631740</td>\n",
       "      <td>0.950142</td>\n",
       "      <td>0.608229</td>\n",
       "    </tr>\n",
       "    <tr>\n",
       "      <th>12</th>\n",
       "      <td>0.210216</td>\n",
       "      <td>0.302073</td>\n",
       "      <td>0.983927</td>\n",
       "      <td>0.637300</td>\n",
       "      <td>0.808617</td>\n",
       "      <td>0.501111</td>\n",
       "      <td>0.410486</td>\n",
       "      <td>0.842381</td>\n",
       "      <td>0.837024</td>\n",
       "      <td>0.685936</td>\n",
       "      <td>0.846797</td>\n",
       "      <td>0.270250</td>\n",
       "      <td>1.000000</td>\n",
       "      <td>0.558724</td>\n",
       "      <td>0.722576</td>\n",
       "      <td>0.497584</td>\n",
       "      <td>0.267978</td>\n",
       "    </tr>\n",
       "    <tr>\n",
       "      <th>13</th>\n",
       "      <td>0.574349</td>\n",
       "      <td>0.743244</td>\n",
       "      <td>0.448335</td>\n",
       "      <td>0.185976</td>\n",
       "      <td>0.289161</td>\n",
       "      <td>0.959594</td>\n",
       "      <td>0.096933</td>\n",
       "      <td>0.560453</td>\n",
       "      <td>0.309319</td>\n",
       "      <td>0.223741</td>\n",
       "      <td>0.611753</td>\n",
       "      <td>0.609133</td>\n",
       "      <td>0.558724</td>\n",
       "      <td>1.000000</td>\n",
       "      <td>0.919179</td>\n",
       "      <td>0.738105</td>\n",
       "      <td>0.439346</td>\n",
       "    </tr>\n",
       "    <tr>\n",
       "      <th>14</th>\n",
       "      <td>0.627446</td>\n",
       "      <td>0.739082</td>\n",
       "      <td>0.690141</td>\n",
       "      <td>0.444916</td>\n",
       "      <td>0.551916</td>\n",
       "      <td>0.935718</td>\n",
       "      <td>0.306405</td>\n",
       "      <td>0.785086</td>\n",
       "      <td>0.570331</td>\n",
       "      <td>0.476386</td>\n",
       "      <td>0.803062</td>\n",
       "      <td>0.631740</td>\n",
       "      <td>0.722576</td>\n",
       "      <td>0.919179</td>\n",
       "      <td>1.000000</td>\n",
       "      <td>0.712602</td>\n",
       "      <td>0.446688</td>\n",
       "    </tr>\n",
       "    <tr>\n",
       "      <th>15</th>\n",
       "      <td>0.922124</td>\n",
       "      <td>0.838209</td>\n",
       "      <td>0.466426</td>\n",
       "      <td>0.321119</td>\n",
       "      <td>0.384010</td>\n",
       "      <td>0.702112</td>\n",
       "      <td>0.237577</td>\n",
       "      <td>0.523016</td>\n",
       "      <td>0.394896</td>\n",
       "      <td>0.339476</td>\n",
       "      <td>0.539097</td>\n",
       "      <td>0.950142</td>\n",
       "      <td>0.497584</td>\n",
       "      <td>0.738105</td>\n",
       "      <td>0.712602</td>\n",
       "      <td>1.000000</td>\n",
       "      <td>0.733641</td>\n",
       "    </tr>\n",
       "    <tr>\n",
       "      <th>17</th>\n",
       "      <td>0.566878</td>\n",
       "      <td>0.498350</td>\n",
       "      <td>0.231661</td>\n",
       "      <td>0.143569</td>\n",
       "      <td>0.180263</td>\n",
       "      <td>0.394138</td>\n",
       "      <td>0.099933</td>\n",
       "      <td>0.267195</td>\n",
       "      <td>0.186901</td>\n",
       "      <td>0.155126</td>\n",
       "      <td>0.283687</td>\n",
       "      <td>0.608229</td>\n",
       "      <td>0.267978</td>\n",
       "      <td>0.439346</td>\n",
       "      <td>0.446688</td>\n",
       "      <td>0.733641</td>\n",
       "      <td>1.000000</td>\n",
       "    </tr>\n",
       "  </tbody>\n",
       "</table>\n",
       "</div>"
      ],
      "text/plain": [
       "          0         1         2         3         4         5         6   \\\n",
       "0   1.000000  0.659546  0.021665  0.000346  0.003003  0.282621  0.000210   \n",
       "1   0.659546  1.000000  0.068258  0.002896  0.015138  0.521296  0.001307   \n",
       "2   0.021665  0.068258  1.000000  0.378824  0.646287  0.261333  0.165479   \n",
       "3   0.000346  0.002896  0.378824  1.000000  0.668744  0.033941  0.510407   \n",
       "4   0.003003  0.015138  0.646287  0.668744  1.000000  0.099593  0.312424   \n",
       "5   0.282621  0.521296  0.261333  0.033941  0.099593  1.000000  0.013189   \n",
       "6   0.000210  0.001307  0.165479  0.510407  0.312424  0.013189  1.000000   \n",
       "7   0.032677  0.104725  0.752452  0.195685  0.409795  0.379949  0.077224   \n",
       "8   0.004286  0.019717  0.694799  0.623961  0.948114  0.117298  0.289256   \n",
       "9   0.002228  0.010333  0.475830  0.923838  0.769212  0.066808  0.490836   \n",
       "10  0.125801  0.234366  0.791626  0.322017  0.517030  0.510623  0.154793   \n",
       "11  0.937616  0.738076  0.124513  0.026692  0.057447  0.457161  0.011519   \n",
       "12  0.210216  0.302073  0.983927  0.637300  0.808617  0.501111  0.410486   \n",
       "13  0.574349  0.743244  0.448335  0.185976  0.289161  0.959594  0.096933   \n",
       "14  0.627446  0.739082  0.690141  0.444916  0.551916  0.935718  0.306405   \n",
       "15  0.922124  0.838209  0.466426  0.321119  0.384010  0.702112  0.237577   \n",
       "17  0.566878  0.498350  0.231661  0.143569  0.180263  0.394138  0.099933   \n",
       "\n",
       "          7         8         9         10        11        12        13  \\\n",
       "0   0.032677  0.004286  0.002228  0.125801  0.937616  0.210216  0.574349   \n",
       "1   0.104725  0.019717  0.010333  0.234366  0.738076  0.302073  0.743244   \n",
       "2   0.752452  0.694799  0.475830  0.791626  0.124513  0.983927  0.448335   \n",
       "3   0.195685  0.623961  0.923838  0.322017  0.026692  0.637300  0.185976   \n",
       "4   0.409795  0.948114  0.769212  0.517030  0.057447  0.808617  0.289161   \n",
       "5   0.379949  0.117298  0.066808  0.510623  0.457161  0.501111  0.959594   \n",
       "6   0.077224  0.289256  0.490836  0.154793  0.011519  0.410486  0.096933   \n",
       "7   1.000000  0.454210  0.285325  0.984606  0.172263  0.842381  0.560453   \n",
       "8   0.454210  1.000000  0.725165  0.553388  0.064934  0.837024  0.309319   \n",
       "9   0.285325  0.725165  1.000000  0.391980  0.040703  0.685936  0.223741   \n",
       "10  0.984606  0.553388  0.391980  1.000000  0.241854  0.846797  0.611753   \n",
       "11  0.172263  0.064934  0.040703  0.241854  1.000000  0.270250  0.609133   \n",
       "12  0.842381  0.837024  0.685936  0.846797  0.270250  1.000000  0.558724   \n",
       "13  0.560453  0.309319  0.223741  0.611753  0.609133  0.558724  1.000000   \n",
       "14  0.785086  0.570331  0.476386  0.803062  0.631740  0.722576  0.919179   \n",
       "15  0.523016  0.394896  0.339476  0.539097  0.950142  0.497584  0.738105   \n",
       "17  0.267195  0.186901  0.155126  0.283687  0.608229  0.267978  0.439346   \n",
       "\n",
       "          14        15        17  \n",
       "0   0.627446  0.922124  0.566878  \n",
       "1   0.739082  0.838209  0.498350  \n",
       "2   0.690141  0.466426  0.231661  \n",
       "3   0.444916  0.321119  0.143569  \n",
       "4   0.551916  0.384010  0.180263  \n",
       "5   0.935718  0.702112  0.394138  \n",
       "6   0.306405  0.237577  0.099933  \n",
       "7   0.785086  0.523016  0.267195  \n",
       "8   0.570331  0.394896  0.186901  \n",
       "9   0.476386  0.339476  0.155126  \n",
       "10  0.803062  0.539097  0.283687  \n",
       "11  0.631740  0.950142  0.608229  \n",
       "12  0.722576  0.497584  0.267978  \n",
       "13  0.919179  0.738105  0.439346  \n",
       "14  1.000000  0.712602  0.446688  \n",
       "15  0.712602  1.000000  0.733641  \n",
       "17  0.446688  0.733641  1.000000  "
      ]
     },
     "execution_count": 34,
     "metadata": {},
     "output_type": "execute_result"
    }
   ],
   "source": [
    "df_bmi=scikit_posthocs.posthoc_conover(a=positive_df,val_col='BMI',group_col='Pregnancies')\n",
    "df_bmi"
   ]
  },
  {
   "cell_type": "code",
   "execution_count": 35,
   "id": "9aa3ee41",
   "metadata": {},
   "outputs": [
    {
     "name": "stdout",
     "output_type": "stream",
     "text": [
      "[(0, 2), (0, 3), (0, 4), (0, 6), (0, 7), (0, 8), (0, 9), (1, 3), (1, 4), (1, 6), (1, 8), (1, 9), (2, 12), (3, 5), (3, 11), (5, 6), (5, 13), (6, 11), (7, 10), (9, 11), (11, 15)]\n"
     ]
    }
   ],
   "source": [
    "t=[]\n",
    "for k in df_bmi:\n",
    "    i=0\n",
    "    for v in df_bmi[k]:\n",
    "        if v<0.05 or v>0.95:\n",
    "            if v!=1 :\n",
    "                t.append((k,i))\n",
    "        i=i+1\n",
    "for i in t:\n",
    "    for j in t:\n",
    "        if (i[0]==j[1]) and( i[1]==j[0]):\n",
    "            t.remove(j)\n",
    "print(t)"
   ]
  },
  {
   "cell_type": "code",
   "execution_count": 36,
   "id": "6c3ea34e",
   "metadata": {},
   "outputs": [
    {
     "data": {
      "image/png": "[encoded data removed]",
      "text/plain": [
       "<Figure size 720x720 with 1 Axes>"
      ]
     },
     "metadata": {
      "needs_background": "light"
     },
     "output_type": "display_data"
    }
   ],
   "source": [
    "plt.figure(figsize=(10,10))\n",
    "ax=sns.lineplot(x='Pregnancies',y='BMI',data=diabetes_df,hue='Outcome',style='Outcome',markers=True)\n",
    "plt.xticks([0,1,2,3,4,5,6,7,8,9,10,11,12,13,14,15,16,17])\n",
    "plt.title('Effect of Pregnancies on BMI')\n",
    "plt.show()"
   ]
  },
  {
   "cell_type": "markdown",
   "id": "76406c49",
   "metadata": {},
   "source": [
    "#### With regard to Outcome<br>\n",
    "BMI tends to be higher for diabetic women as compared to non-diabetic women.<br>\n",
    "#### With respect to Pregnancies<br>\n",
    "For women with 0 pregnancies, BMI tends to be on the higher side for both Outcomes. Following this we see a drop in BMI with increase in Pregnancies irregardless of Outcome upto the 3rd pregnancy. "
   ]
  },
  {
   "cell_type": "markdown",
   "id": "477f2d9c",
   "metadata": {},
   "source": [
    "#### Diabetes Pedigree Function vs Outcome"
   ]
  },
  {
   "cell_type": "markdown",
   "id": "85bc90d4",
   "metadata": {},
   "source": [
    "##### Diabetes Pedigree Function for diabetic women is higer than for non-diabetic women"
   ]
  },
  {
   "cell_type": "markdown",
   "id": "78cc8287",
   "metadata": {},
   "source": [
    "$$H0:(Mu_{DiabetesPedigreeFunction})_{diabetic}-(Mu_{DiabetesPedigreeFunction})_{non-diabetic} \\leq 0$$"
   ]
  },
  {
   "cell_type": "markdown",
   "id": "4191a398",
   "metadata": {},
   "source": [
    "$$H1:(Mu_{DiabetesPedigreeFunction})_{diabetic}-(Mu_{DiabetesPedigreeFunction})_{non-diabetic}>0$$"
   ]
  },
  {
   "cell_type": "code",
   "execution_count": 37,
   "id": "ed783c8f",
   "metadata": {},
   "outputs": [
    {
     "name": "stdout",
     "output_type": "stream",
     "text": [
      "Shapiro test:  5.16110811992496e-15 9.733450524757011e-23\n",
      "MannwhitneyuResult(statistic=52769.0, pvalue=5.982917206959746e-07)\n"
     ]
    }
   ],
   "source": [
    "print(\"Shapiro test: \",st.shapiro(positive_df['DiabetesPedigreeFunction'])[1],st.shapiro(negative_df['DiabetesPedigreeFunction'])[1])\n",
    "print(st.mannwhitneyu(negative_df['DiabetesPedigreeFunction'],positive_df['DiabetesPedigreeFunction'],alternative='less'))"
   ]
  },
  {
   "cell_type": "markdown",
   "id": "9c8d5342",
   "metadata": {},
   "source": [
    "#### Result of Shapiro test<br>\n",
    "pvalue for both datasets<0.05.<br>\n",
    "We can therefore conclude that both datasets are not normally distributed. We shall now proceed with the mannwhitneyU test.<br>\n",
    "Result for MannwhitneyU test<br>\n",
    "pvalue<0.05.<br> \n",
    "Test statistic falls in the rejection region. We therefore reject H0.<br>\n",
    "We can then conclude that Diabetes Pedigree Function for diabetic women is greater than for non-diabetic women<br>"
   ]
  },
  {
   "cell_type": "code",
   "execution_count": 38,
   "id": "70820334",
   "metadata": {},
   "outputs": [
    {
     "data": {
      "image/png": "[encoded data removed]",
      "text/plain": [
       "<Figure size 432x288 with 1 Axes>"
      ]
     },
     "metadata": {
      "needs_background": "light"
     },
     "output_type": "display_data"
    }
   ],
   "source": [
    "sns.boxenplot(x='Outcome',y='DiabetesPedigreeFunction',data=diabetes_df)\n",
    "plt.title('Effect of diabetic pedigree function on Outcome')\n",
    "plt.show()"
   ]
  },
  {
   "cell_type": "markdown",
   "id": "42e622f4",
   "metadata": {},
   "source": [
    "Thus we can see that diabetic women tend to have a higher Diabetes Pedigree Function"
   ]
  },
  {
   "cell_type": "markdown",
   "id": "9acdd168",
   "metadata": {
    "scrolled": true
   },
   "source": [
    "People with diabetes tend to have a Diabetic Pedigree Function >0.6"
   ]
  },
  {
   "cell_type": "markdown",
   "id": "205a0a6e",
   "metadata": {},
   "source": [
    "$$H0:(Mu_{diabeticpedigreefunction})_{diabetic} \\leq 0.6$$\n",
    "$$H1:(Mu_{diabeticpedigreefunction})_{diabetic} > 0.6$$"
   ]
  },
  {
   "cell_type": "code",
   "execution_count": 39,
   "id": "fb758d1a",
   "metadata": {},
   "outputs": [
    {
     "name": "stdout",
     "output_type": "stream",
     "text": [
      "WilcoxonResult(statistic=12806.5, pvalue=0.9999799834356943)\n"
     ]
    }
   ],
   "source": [
    "mu=0.6\n",
    "dpf=[]\n",
    "for i in positive_df['DiabetesPedigreeFunction']:\n",
    "    dpf.append(i-mu)\n",
    "print(st.wilcoxon(dpf,alternative='greater'))"
   ]
  },
  {
   "cell_type": "markdown",
   "id": "dd9cc26e",
   "metadata": {},
   "source": [
    "For a value of Diabetes Pedigree Function of 0.6 tendancy to have diabetes is higher in women.\n",
    "Diabetic Pedigree function is an inherent property of genetics. Thus number of pregnancies will not change this value."
   ]
  },
  {
   "cell_type": "code",
   "execution_count": 40,
   "id": "6e444b1b",
   "metadata": {},
   "outputs": [
    {
     "data": {
      "image/png": "[encoded data removed]",
      "text/plain": [
       "<Figure size 720x720 with 1 Axes>"
      ]
     },
     "metadata": {
      "needs_background": "light"
     },
     "output_type": "display_data"
    }
   ],
   "source": [
    "plt.figure(figsize=(10,10))\n",
    "ax=sns.lineplot(x='Pregnancies',y='DiabetesPedigreeFunction',data=diabetes_df,hue='Outcome',style='Outcome',markers=True)\n",
    "plt.xticks([0,1,2,3,4,5,6,7,8,9,10,11,12,13,14,15,16,17])\n",
    "plt.title('Effect of Pregnancies and Diabetes Pedigree Function on Outcome')\n",
    "plt.show()\n"
   ]
  },
  {
   "cell_type": "markdown",
   "id": "e18b8d86",
   "metadata": {},
   "source": [
    "#### Glucose vs. Outcome"
   ]
  },
  {
   "cell_type": "markdown",
   "id": "84453969",
   "metadata": {},
   "source": [
    "$$H0:(Mu_{glucose})_{diabetic}-(Mu_{glucose})_{nondiabetic}\\leq 0$$\n",
    " "
   ]
  },
  {
   "cell_type": "markdown",
   "id": "e40c3f86",
   "metadata": {},
   "source": [
    "$$H1:(Mu_{glucose})_{diabetic}-(Mu_{glucose})_{nondiabetic}>0$$"
   ]
  },
  {
   "cell_type": "code",
   "execution_count": 41,
   "id": "5d8f140a",
   "metadata": {},
   "outputs": [
    {
     "name": "stdout",
     "output_type": "stream",
     "text": [
      "Shapiro test:  0.00012286074343137443 1.072575201988002e-07\n",
      "MannwhitneyuResult(statistic=27613.0, pvalue=1.7219946851457248e-41)\n"
     ]
    }
   ],
   "source": [
    "print(\"Shapiro test: \",st.shapiro(positive_df['Glucose'])[1],st.shapiro(negative_df['Glucose'])[1])\n",
    "print(st.mannwhitneyu(negative_df['Glucose'],positive_df['Glucose'],alternative='less'))"
   ]
  },
  {
   "cell_type": "markdown",
   "id": "b9a55378",
   "metadata": {},
   "source": [
    "#### Result of Shapiro test\n",
    "Both datasets are not normally distributed therefore we proceed with manwhitneyu test.<br>\n",
    "Result of MannWhitneyU test<br>\n",
    "pvalue<0.05. Test statistic falls in the rejection region. Thus we reject H0.<br>\n",
    "Thus we conclude that Glucose level for diabetic women is higher than for non-diabetic women<br>"
   ]
  },
  {
   "cell_type": "code",
   "execution_count": 42,
   "id": "9a27d003",
   "metadata": {},
   "outputs": [
    {
     "data": {
      "image/png": "[encoded data removed]",
      "text/plain": [
       "<Figure size 432x288 with 1 Axes>"
      ]
     },
     "metadata": {
      "needs_background": "light"
     },
     "output_type": "display_data"
    }
   ],
   "source": [
    "sns.boxenplot(x='Outcome',y='Glucose',data=diabetes_df)\n",
    "plt.title('Outcome vs. Glucose levels')\n",
    "plt.show()"
   ]
  },
  {
   "cell_type": "markdown",
   "id": "5f52e71d",
   "metadata": {},
   "source": [
    "#### Threshold value for Glucose "
   ]
  },
  {
   "cell_type": "markdown",
   "id": "4a85bd2a",
   "metadata": {},
   "source": [
    "$$H0:(Mu_{glucose})_{diabetic} \\leq 150$$\n",
    " "
   ]
  },
  {
   "cell_type": "markdown",
   "id": "ece6f32f",
   "metadata": {},
   "source": [
    "$$H1:(Mu_{glucose})_{diabetic} > 150$$"
   ]
  },
  {
   "cell_type": "code",
   "execution_count": 43,
   "id": "feb7fcfa",
   "metadata": {},
   "outputs": [
    {
     "name": "stdout",
     "output_type": "stream",
     "text": [
      "WilcoxonResult(statistic=12879.0, pvalue=0.9999636175633667)\n"
     ]
    }
   ],
   "source": [
    "mu=150\n",
    "dpf=[]\n",
    "for i in positive_df['Glucose']:\n",
    "    dpf.append(i-mu)\n",
    "print(st.wilcoxon(dpf,alternative='greater'))"
   ]
  },
  {
   "cell_type": "markdown",
   "id": "15227760",
   "metadata": {},
   "source": [
    "women who have a glucose level>150 are at a higher risk of getting diabetic"
   ]
  },
  {
   "cell_type": "markdown",
   "id": "1fde81d3",
   "metadata": {},
   "source": [
    "#### Glucose vs. Pregnancies"
   ]
  },
  {
   "cell_type": "code",
   "execution_count": 44,
   "id": "70c58d87",
   "metadata": {},
   "outputs": [
    {
     "name": "stdout",
     "output_type": "stream",
     "text": [
      "3\n",
      "ShapiroResult(statistic=0.9203853607177734, pvalue=0.040333446115255356)\n"
     ]
    }
   ],
   "source": [
    "for i in range(18):\n",
    "    p=positive_df[positive_df['Pregnancies']==i]['Glucose']\n",
    "    if st.shapiro(p)[1]>0.95 or st.shapiro(p)[1]<0.05:\n",
    "        print(i)\n",
    "        print(st.shapiro(p))\n",
    "        break"
   ]
  },
  {
   "cell_type": "markdown",
   "id": "84d43d0c",
   "metadata": {},
   "source": [
    "#### Kruskal Wallis test\n",
    "Since atleast one dataset is not normally distributed we shall proceed with Kruskal test.<br>\n",
    "Hypothesis:<br>\n",
    "H0: Average Glucose levels is the same for all pregnancies.<br>\n",
    "H1: Average Glucose levels is not the same for all pregnancies<br>"
   ]
  },
  {
   "cell_type": "code",
   "execution_count": 45,
   "id": "b55471ac",
   "metadata": {},
   "outputs": [
    {
     "name": "stdout",
     "output_type": "stream",
     "text": [
      "KruskalResult(statistic=12.70637226899216, pvalue=0.6940933987956326)\n"
     ]
    }
   ],
   "source": [
    "print(st.kruskal(preg_0['Glucose'],preg_1['Glucose'],preg_2['Glucose'],preg_3['Glucose'],preg_4['Glucose'],preg_5['Glucose'],preg_6['Glucose'],preg_7['Glucose'],preg_8['Glucose'],preg_9['Glucose'],preg_10['Glucose'],preg_11['Glucose'],preg_12['Glucose'],preg_13['Glucose'],preg_14['Glucose'],preg_15['Glucose'],preg_17['Glucose']))"
   ]
  },
  {
   "cell_type": "markdown",
   "id": "a1f7e0b9",
   "metadata": {},
   "source": [
    "Since pvalue>0.05 test stastic falls in the non-rejection region.<br>\n",
    "Conclusion: Average glucose levels does not change with pregnancies if a woman is diabetic<br> "
   ]
  },
  {
   "cell_type": "code",
   "execution_count": 46,
   "id": "8cd4eaa0",
   "metadata": {},
   "outputs": [
    {
     "data": {
      "image/png": "[encoded data removed]",
      "text/plain": [
       "<Figure size 720x720 with 1 Axes>"
      ]
     },
     "metadata": {
      "needs_background": "light"
     },
     "output_type": "display_data"
    }
   ],
   "source": [
    "plt.figure(figsize=(10,10))\n",
    "ax=sns.lineplot(x='Pregnancies',y='Glucose',data=diabetes_df,hue='Outcome',style='Outcome',markers=True)\n",
    "plt.xticks([0,1,2,3,4,5,6,7,8,9,10,11,12,13,14,15,16,17])\n",
    "plt.title('Effect of Pregnancies on Glucose')\n",
    "plt.show()"
   ]
  },
  {
   "cell_type": "markdown",
   "id": "527fe74f",
   "metadata": {},
   "source": [
    "Generally Glucose level is higher for diabetic women but there is no such visible pattern for pregnancy"
   ]
  },
  {
   "cell_type": "markdown",
   "id": "da762f04",
   "metadata": {},
   "source": [
    "#### Effect of outcome on Skin Thickness"
   ]
  },
  {
   "cell_type": "markdown",
   "id": "b3ec8310",
   "metadata": {},
   "source": [
    "$$H0:(Mu_{st})_{non-diabetic}-(Mu_{st})_{diabetic} \\geq 0$$\n",
    "$$H1:(Mu_{st})_{non-diabetic}-(Mu_{st})_{diabetic}<0$$\n",
    " "
   ]
  },
  {
   "cell_type": "code",
   "execution_count": 47,
   "id": "d3868330",
   "metadata": {},
   "outputs": [
    {
     "name": "stdout",
     "output_type": "stream",
     "text": [
      "Shapiro test:  1.4130575261801846e-15 9.89973907564905e-15\n",
      "MannwhitneyuResult(statistic=40360.0, pvalue=3.1338207073224587e-20)\n"
     ]
    }
   ],
   "source": [
    "print(\"Shapiro test: \",st.shapiro(positive_df['SkinThickness'])[1],st.shapiro(negative_df['SkinThickness'])[1])\n",
    "print(st.mannwhitneyu(negative_df['SkinThickness'],positive_df['SkinThickness'],alternative='less'))"
   ]
  },
  {
   "cell_type": "markdown",
   "id": "bc7a20d6",
   "metadata": {},
   "source": [
    "#### Result of Shapiro test<br>\n",
    "pvalue for both datasets<0.05. Both datasets are not normally distributed. We shall then continue on with MannWhitneyU test<br>\n",
    "Result of MannWhitneyU test<br>\n",
    "pvalue <0.05. Test Statistic falls in the rejection region. Thus we reject H0.<br>\n",
    "We can now conclude that Skin Thickness for diabetic women is greater than that of non-diabetic women.<br>"
   ]
  },
  {
   "cell_type": "code",
   "execution_count": 48,
   "id": "b61c7f1e",
   "metadata": {},
   "outputs": [
    {
     "data": {
      "image/png": "[encoded data removed]",
      "text/plain": [
       "<Figure size 432x288 with 1 Axes>"
      ]
     },
     "metadata": {
      "needs_background": "light"
     },
     "output_type": "display_data"
    }
   ],
   "source": [
    "sns.boxenplot(x='Outcome',y='SkinThickness',data=diabetes_df)\n",
    "plt.title('Outcome vs. Skin Thickness')\n",
    "plt.show()"
   ]
  },
  {
   "cell_type": "markdown",
   "id": "e3543ca3",
   "metadata": {},
   "source": [
    "#### Threshold value for skin thickness\n",
    "$$H0:(Mu)skinthickness≤35$$\n",
    "$$H1:(Mu)skinthickness>35$$"
   ]
  },
  {
   "cell_type": "code",
   "execution_count": 49,
   "id": "1b7263e1",
   "metadata": {},
   "outputs": [
    {
     "name": "stdout",
     "output_type": "stream",
     "text": [
      "WilcoxonResult(statistic=7366.5, pvalue=0.9999999999999991)\n"
     ]
    }
   ],
   "source": [
    "mu=35\n",
    "sth=[]\n",
    "for i in positive_df['SkinThickness']:\n",
    "    sth.append(i-mu)\n",
    "print(st.wilcoxon(sth,alternative='greater'))"
   ]
  },
  {
   "cell_type": "markdown",
   "id": "ff726d71",
   "metadata": {},
   "source": [
    "Fom the above test we can see that skin thickness >35 for women who have diabetes<br>\n",
    "Check if skin thickness of diabetic women change with number of pregnancies"
   ]
  },
  {
   "cell_type": "markdown",
   "id": "9562f5b6",
   "metadata": {},
   "source": [
    "#### Skin Thickness vs Pregnancies"
   ]
  },
  {
   "cell_type": "code",
   "execution_count": 50,
   "id": "325fedbc",
   "metadata": {},
   "outputs": [
    {
     "name": "stdout",
     "output_type": "stream",
     "text": [
      "5\n",
      "ShapiroResult(statistic=0.8932729363441467, pvalue=0.025970375165343285)\n"
     ]
    }
   ],
   "source": [
    "for i in range(18):\n",
    "    p=positive_df[positive_df['Pregnancies']==i]['BloodPressure']\n",
    "    if st.shapiro(p)[1]>0.95 or st.shapiro(p)[1]<0.05:\n",
    "        print(i)\n",
    "        print(st.shapiro(p))\n",
    "        break"
   ]
  },
  {
   "cell_type": "markdown",
   "id": "ca69be81",
   "metadata": {},
   "source": [
    "pvalue of pregnancy 5 dataset<0.05. Thus atleast 1 dataset is not normally distributed. Kruskal Wallis test<br>\n",
    "Hypothesis:<br>\n",
    "H0:Average skin thickness is same for all pregnancies in diabetic women<br>\n",
    "H1:Average skin thickness is different for atleast 1 pregnancy in diabetic women.<br>"
   ]
  },
  {
   "cell_type": "code",
   "execution_count": 51,
   "id": "f00793c4",
   "metadata": {},
   "outputs": [
    {
     "name": "stdout",
     "output_type": "stream",
     "text": [
      "KruskalResult(statistic=18.092429071114545, pvalue=0.3185123596517917)\n"
     ]
    }
   ],
   "source": [
    "print(st.kruskal(preg_0['SkinThickness'],preg_1['SkinThickness'],preg_2['SkinThickness'],preg_3['SkinThickness'],preg_4['SkinThickness'],preg_5['SkinThickness'],preg_6['SkinThickness'],preg_7['SkinThickness'],preg_8['SkinThickness'],preg_9['SkinThickness'],preg_10['SkinThickness'],preg_11['SkinThickness'],preg_12['SkinThickness'],preg_13['SkinThickness'],preg_14['SkinThickness'],preg_15['SkinThickness'],preg_17['SkinThickness']))"
   ]
  },
  {
   "cell_type": "markdown",
   "id": "37f8fca3",
   "metadata": {},
   "source": [
    "Since p value>0.05 stastic falls in the non-rejection region.<br>\n",
    "We fail to reject H0.<br>\n",
    "Conclusion: Pregnancies does not change the skin thickness in diabetic women<br>"
   ]
  },
  {
   "cell_type": "code",
   "execution_count": null,
   "id": "2ca16c8a",
   "metadata": {},
   "outputs": [],
   "source": [
    "plt.figure(figsize=(10,10))\n",
    "ax=sns.lineplot(x='Pregnancies',y='SkinThickness',data=diabetes_df,hue='Outcome',style='Outcome',markers=True)\n",
    "plt.xticks([0,1,2,3,4,5,6,7,8,9,10,11,12,13,14,15,16,17])\n",
    "plt.title('Effect of Pregnancies on Skin Thickness')\n",
    "plt.show()"
   ]
  },
  {
   "cell_type": "markdown",
   "id": "d544a826",
   "metadata": {},
   "source": [
    "Skin Thickness for diabetic women is greater than non-diabetic women but there is no clear pattern for number of pregnancies"
   ]
  },
  {
   "cell_type": "markdown",
   "id": "eb38b9b2",
   "metadata": {},
   "source": [
    "#### Insulin vs Outcome"
   ]
  },
  {
   "cell_type": "markdown",
   "id": "e305bbb9",
   "metadata": {},
   "source": [
    "$$(Mu_{insulin})_{diabetic}-(Mu_{insulin})_{non-diabetic} \\geq 0$$"
   ]
  },
  {
   "cell_type": "markdown",
   "id": "7e7e90d0",
   "metadata": {},
   "source": [
    "$$(Mu_{insulin})_{diabetic}-(Mu_{insulin})_{non-diabetic} < 0$$"
   ]
  },
  {
   "cell_type": "code",
   "execution_count": null,
   "id": "67015fdb",
   "metadata": {},
   "outputs": [],
   "source": [
    "print(\"Shapiro test: \",st.shapiro(positive_df['Insulin'])[1],st.shapiro(negative_df['Insulin'])[1])\n",
    "print(st.mannwhitneyu(positive_df['Insulin'],negative_df['Insulin'],alternative='less'))"
   ]
  },
  {
   "cell_type": "markdown",
   "id": "957fe1ca",
   "metadata": {},
   "source": [
    "#### Result of Shapiro test\n",
    "pvalue for both datasets>0.05. Both datasets are not normally distributed. We shall then continue on with MannWhitneyU test<br>\n",
    "Result of MannWhitneyU test<br>\n",
    "pvalue <0.05. Test Statistic falls in the rejection region. Thus we reject H0.<br>\n",
    "We can now conclude that Insulin for diabetic women is lesser than that of non-diabetic women<br>"
   ]
  },
  {
   "cell_type": "code",
   "execution_count": null,
   "id": "7eb25a4e",
   "metadata": {},
   "outputs": [],
   "source": [
    "sns.boxplot(x='Outcome',y='Insulin',data=diabetes_df)\n",
    "plt.title('Outcome vs. Insulin levels')\n",
    "plt.show()"
   ]
  },
  {
   "cell_type": "markdown",
   "id": "c649c26c",
   "metadata": {},
   "source": [
    "#### Hypothesis:\n",
    "$$H0:(Mu_{positive})_{insulin} \\geq 95$$\n",
    "$$H1:(Mupositive)insulin<95$$"
   ]
  },
  {
   "cell_type": "code",
   "execution_count": null,
   "id": "70d9d562",
   "metadata": {},
   "outputs": [],
   "source": [
    "mu=95\n",
    "insulin=[]\n",
    "for i in positive_df['Insulin']:\n",
    "    insulin.append(i-mu)\n",
    "print(st.wilcoxon(insulin,alternative='less'))"
   ]
  },
  {
   "cell_type": "markdown",
   "id": "c1b5a8c6",
   "metadata": {},
   "source": [
    "We can see that the pvalue<0.05 thus statistic falls in the rejection region.<br>\n",
    "We shall reject H0.<br>\n",
    "Thus women wih diabetes tends to have an Insulin level<95<br>"
   ]
  },
  {
   "cell_type": "markdown",
   "id": "35a8b504",
   "metadata": {},
   "source": [
    "#### Insulin vs Pregnancies"
   ]
  },
  {
   "cell_type": "code",
   "execution_count": null,
   "id": "984bdfcc",
   "metadata": {},
   "outputs": [],
   "source": [
    "for i in range(18):\n",
    "    p=positive_df[positive_df['Pregnancies']==i]['Insulin']\n",
    "    if st.shapiro(p)[1]>0.95 or st.shapiro(p)[1]<0.05:\n",
    "        print(i)\n",
    "        print(st.shapiro(p))\n",
    "        break"
   ]
  },
  {
   "cell_type": "markdown",
   "id": "fd23b66b",
   "metadata": {},
   "source": [
    "Since atleast 1 of the shapiro test fails we shall proceed with Kruskal Wallis test:<br>\n",
    "Hypothesis:<br>\n",
    "H0: Average Insulin level remains same for all pregnancies<br>\n",
    "H1: Average insulin values is different for atleast 1 pregnancies<br>"
   ]
  },
  {
   "cell_type": "code",
   "execution_count": null,
   "id": "1aca4df1",
   "metadata": {},
   "outputs": [],
   "source": [
    "print(st.kruskal(preg_0['Insulin'],preg_1['Insulin'],preg_2['Insulin'],preg_3['Insulin'],preg_4['Insulin'],preg_5['Insulin'],preg_6['Insulin'],preg_7['Insulin'],preg_8['Insulin'],preg_9['Insulin'],preg_10['Insulin'],preg_11['Insulin'],preg_12['Insulin'],preg_13['Insulin'],preg_14['Insulin'],preg_15['Insulin'],preg_17['Insulin']))"
   ]
  },
  {
   "cell_type": "markdown",
   "id": "654b9d28",
   "metadata": {},
   "source": [
    "pvalue<0.05. Test statistic falls in the rejection region. We shall reject H0.<br>\n",
    "Conclusion: Avergae insulin levels depend on number of Pregnancies<br>"
   ]
  },
  {
   "cell_type": "code",
   "execution_count": null,
   "id": "58e400b6",
   "metadata": {},
   "outputs": [],
   "source": [
    "df_i=scikit_posthocs.posthoc_conover(a=positive_df,val_col='Insulin',group_col='Pregnancies')\n",
    "df_i"
   ]
  },
  {
   "cell_type": "code",
   "execution_count": null,
   "id": "5e14e194",
   "metadata": {},
   "outputs": [],
   "source": [
    "t=[]\n",
    "for k in df_i:\n",
    "    i=0\n",
    "    for v in df_i[k]:\n",
    "        if v<0.05 or v>0.95:\n",
    "            if v!=1 :\n",
    "                t.append((k,i))\n",
    "        i=i+1\n",
    "for i in t:\n",
    "    for j in t:\n",
    "        if (i[0]==j[1]) and( i[1]==j[0]):\n",
    "            t.remove(j)\n",
    "print(t)"
   ]
  },
  {
   "cell_type": "code",
   "execution_count": null,
   "id": "87644040",
   "metadata": {},
   "outputs": [],
   "source": [
    "plt.figure(figsize=(10,10))\n",
    "ax=sns.lineplot(x='Pregnancies',y='Insulin',data=diabetes_df,hue='Outcome',style='Outcome',markers=True)\n",
    "plt.xticks([0,1,2,3,4,5,6,7,8,9,10,11,12,13,14])\n",
    "plt.title('Effect of Pregnancies on Insulin')\n",
    "plt.show()"
   ]
  },
  {
   "cell_type": "markdown",
   "id": "59006782",
   "metadata": {},
   "source": [
    "#### Age vs Outcome"
   ]
  },
  {
   "cell_type": "markdown",
   "id": "73d93631",
   "metadata": {},
   "source": [
    "$$H0:(Mu_{age})_{diabetic}-(Mu_{age})_{non-diabetic} \\leq 0$$"
   ]
  },
  {
   "cell_type": "markdown",
   "id": "5310d159",
   "metadata": {},
   "source": [
    "$$Mu_({age})_{diabetic}-(Mu_{age})_{non-diabetic}>0$$"
   ]
  },
  {
   "cell_type": "code",
   "execution_count": null,
   "id": "26a12566",
   "metadata": {},
   "outputs": [],
   "source": [
    "print(\"Shapiro test: \",st.shapiro(positive_df['Age'])[1],st.shapiro(negative_df['Age'])[1])\n",
    "print(st.mannwhitneyu(negative_df['Age'],positive_df['Age'],alternative='less'))"
   ]
  },
  {
   "cell_type": "markdown",
   "id": "4066ae9c",
   "metadata": {},
   "source": [
    "#### Result of Shapiro test<br>\n",
    "pvalue for both datasets<0.05. Both datasets are not normally distributed. We shall then continue on with MannWhitneyU test<br>\n",
    "Result of MannWhitneyU test<br>\n",
    "pvalue <0.05. Test Statistic falls in the rejection region. Thus we reject H0.<br>\n",
    "We can now conclude that age of diabetic women is greater than that of non-diabetic women.<br>"
   ]
  },
  {
   "cell_type": "code",
   "execution_count": null,
   "id": "d069b1c7",
   "metadata": {},
   "outputs": [],
   "source": [
    "sns.boxenplot(x='Outcome',y='Age',data=diabetes_df)\n",
    "plt.title('Outcome vs. Age')\n",
    "plt.show()"
   ]
  },
  {
   "cell_type": "code",
   "execution_count": null,
   "id": "86187836",
   "metadata": {},
   "outputs": [],
   "source": [
    "mu=40\n",
    "age=[]\n",
    "for i in positive_df['Age']:\n",
    "    age.append(i-mu)\n",
    "print(st.wilcoxon(age,alternative='greater'))"
   ]
  },
  {
   "cell_type": "markdown",
   "id": "6e29edd4",
   "metadata": {},
   "source": [
    "From the above test we can conclude that women above 40 years of age are at a higher risk of getting diabetes."
   ]
  },
  {
   "cell_type": "code",
   "execution_count": null,
   "id": "54043401",
   "metadata": {},
   "outputs": [],
   "source": [
    "plt.figure(figsize=(10,10))\n",
    "ax=sns.lineplot(x='Pregnancies',y='Age',data=diabetes_df,hue='Outcome',style='Outcome',markers=True)\n",
    "plt.xticks([0,1,2,3,4,5,6,7,8,9,10,11,12,13,14,15,16,17])\n",
    "plt.title('Effect of Pregnancies on Age')\n",
    "plt.show()"
   ]
  },
  {
   "cell_type": "markdown",
   "id": "ea0450ad",
   "metadata": {},
   "source": [
    "Is number of Pregnancies and Outcome related?"
   ]
  },
  {
   "cell_type": "markdown",
   "id": "c6a2d8d3",
   "metadata": {},
   "source": [
    "#### H0:Pregnancies and Outcome are independant of each other"
   ]
  },
  {
   "cell_type": "markdown",
   "id": "8fbdfbc4",
   "metadata": {},
   "source": [
    "#### H1:Pregnancies and Outcome are dependant on each other"
   ]
  },
  {
   "cell_type": "code",
   "execution_count": null,
   "id": "6aef9ba3",
   "metadata": {},
   "outputs": [],
   "source": [
    "preg_out=pd.crosstab(diabetes_df.Pregnancies,diabetes_df.Outcome)\n",
    "preg_out"
   ]
  },
  {
   "cell_type": "markdown",
   "id": "962c2d6a",
   "metadata": {},
   "source": [
    "Value of pregnancies >10 are all <5. For Chi-Square test it is necessary that the values be  ≥5"
   ]
  },
  {
   "cell_type": "code",
   "execution_count": null,
   "id": "7bbf1b49",
   "metadata": {},
   "outputs": [],
   "source": [
    "preg_out=preg_out[preg_out.index<=10]\n",
    "preg_out"
   ]
  },
  {
   "cell_type": "code",
   "execution_count": null,
   "id": "3096d8a5",
   "metadata": {},
   "outputs": [],
   "source": [
    "r=11\n",
    "c=2\n",
    "df=(r-1)*(c-1)\n",
    "obs_val=preg_out.values\n",
    "obs_val"
   ]
  },
  {
   "cell_type": "code",
   "execution_count": null,
   "id": "57cfffab",
   "metadata": {},
   "outputs": [],
   "source": [
    "chi2_crit=st.chi2.isf(0.05,df)\n",
    "print(chi2_crit)\n",
    "print(\"Chi_statistic: {}\\nPvalue: {}\".format(*st.chi2_contingency(obs_val,correction=False)[:2]))"
   ]
  },
  {
   "cell_type": "markdown",
   "id": "c2936b87",
   "metadata": {},
   "source": [
    "#### Chi critical value< chi statistic value.<br>\n",
    "Also, pvalue<0.05.<br>\n",
    "Thus we can conclude that pregnancies and outcome are dependant on each other.<br>"
   ]
  },
  {
   "cell_type": "code",
   "execution_count": null,
   "id": "0bc71948",
   "metadata": {},
   "outputs": [],
   "source": [
    "sns.countplot('Pregnancies',hue='Outcome',data=diabetes_df)"
   ]
  },
  {
   "cell_type": "code",
   "execution_count": null,
   "id": "d190e40b",
   "metadata": {},
   "outputs": [],
   "source": []
  }
 ],
 "metadata": {
  "kernelspec": {
   "display_name": "Python 3 (ipykernel)",
   "language": "python",
   "name": "python3"
  },
  "language_info": {
   "codemirror_mode": {
    "name": "ipython",
    "version": 3
   },
   "file_extension": ".py",
   "mimetype": "text/x-python",
   "name": "python",
   "nbconvert_exporter": "python",
   "pygments_lexer": "ipython3",
   "version": "3.9.12"
  }
 },
 "nbformat": 4,
 "nbformat_minor": 5
}
